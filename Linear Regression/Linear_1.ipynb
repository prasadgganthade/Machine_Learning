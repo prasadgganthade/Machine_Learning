{
 "cells": [
  {
   "cell_type": "markdown",
   "id": "6999fdf1",
   "metadata": {},
   "source": [
    "# Linear Regression"
   ]
  },
  {
   "cell_type": "code",
   "execution_count": 1,
   "id": "65a5d52f",
   "metadata": {},
   "outputs": [
    {
     "name": "stdout",
     "output_type": "stream",
     "text": [
      "Impoted libraries sucessfully\n"
     ]
    }
   ],
   "source": [
    "import numpy as np\n",
    "import matplotlib.pyplot as plt\n",
    "import pandas as pd\n",
    "import seaborn as sns\n",
    "print('Impoted libraries sucessfully')"
   ]
  },
  {
   "cell_type": "code",
   "execution_count": 2,
   "id": "063904e7",
   "metadata": {},
   "outputs": [
    {
     "data": {
      "text/html": [
       "<div>\n",
       "<style scoped>\n",
       "    .dataframe tbody tr th:only-of-type {\n",
       "        vertical-align: middle;\n",
       "    }\n",
       "\n",
       "    .dataframe tbody tr th {\n",
       "        vertical-align: top;\n",
       "    }\n",
       "\n",
       "    .dataframe thead th {\n",
       "        text-align: right;\n",
       "    }\n",
       "</style>\n",
       "<table border=\"1\" class=\"dataframe\">\n",
       "  <thead>\n",
       "    <tr style=\"text-align: right;\">\n",
       "      <th></th>\n",
       "      <th>X</th>\n",
       "      <th>Y</th>\n",
       "    </tr>\n",
       "  </thead>\n",
       "  <tbody>\n",
       "    <tr>\n",
       "      <th>0</th>\n",
       "      <td>1</td>\n",
       "      <td>3.888889</td>\n",
       "    </tr>\n",
       "    <tr>\n",
       "      <th>1</th>\n",
       "      <td>2</td>\n",
       "      <td>4.555556</td>\n",
       "    </tr>\n",
       "    <tr>\n",
       "      <th>2</th>\n",
       "      <td>3</td>\n",
       "      <td>5.222222</td>\n",
       "    </tr>\n",
       "  </tbody>\n",
       "</table>\n",
       "</div>"
      ],
      "text/plain": [
       "   X         Y\n",
       "0  1  3.888889\n",
       "1  2  4.555556\n",
       "2  3  5.222222"
      ]
     },
     "execution_count": 2,
     "metadata": {},
     "output_type": "execute_result"
    }
   ],
   "source": [
    "df = pd.read_csv(\"Linear Regression - Sheet1.csv\")\n",
    "df[:3]"
   ]
  },
  {
   "cell_type": "code",
   "execution_count": 3,
   "id": "9215a306",
   "metadata": {},
   "outputs": [
    {
     "data": {
      "text/html": [
       "<div>\n",
       "<style scoped>\n",
       "    .dataframe tbody tr th:only-of-type {\n",
       "        vertical-align: middle;\n",
       "    }\n",
       "\n",
       "    .dataframe tbody tr th {\n",
       "        vertical-align: top;\n",
       "    }\n",
       "\n",
       "    .dataframe thead th {\n",
       "        text-align: right;\n",
       "    }\n",
       "</style>\n",
       "<table border=\"1\" class=\"dataframe\">\n",
       "  <thead>\n",
       "    <tr style=\"text-align: right;\">\n",
       "      <th></th>\n",
       "      <th>X</th>\n",
       "      <th>Y</th>\n",
       "    </tr>\n",
       "  </thead>\n",
       "  <tbody>\n",
       "    <tr>\n",
       "      <th>count</th>\n",
       "      <td>300.000000</td>\n",
       "      <td>300.000000</td>\n",
       "    </tr>\n",
       "    <tr>\n",
       "      <th>mean</th>\n",
       "      <td>150.500000</td>\n",
       "      <td>102.215556</td>\n",
       "    </tr>\n",
       "    <tr>\n",
       "      <th>std</th>\n",
       "      <td>86.746758</td>\n",
       "      <td>57.842711</td>\n",
       "    </tr>\n",
       "    <tr>\n",
       "      <th>min</th>\n",
       "      <td>1.000000</td>\n",
       "      <td>1.888889</td>\n",
       "    </tr>\n",
       "    <tr>\n",
       "      <th>25%</th>\n",
       "      <td>75.750000</td>\n",
       "      <td>52.388889</td>\n",
       "    </tr>\n",
       "    <tr>\n",
       "      <th>50%</th>\n",
       "      <td>150.500000</td>\n",
       "      <td>102.222222</td>\n",
       "    </tr>\n",
       "    <tr>\n",
       "      <th>75%</th>\n",
       "      <td>225.250000</td>\n",
       "      <td>152.055556</td>\n",
       "    </tr>\n",
       "    <tr>\n",
       "      <th>max</th>\n",
       "      <td>300.000000</td>\n",
       "      <td>201.888889</td>\n",
       "    </tr>\n",
       "  </tbody>\n",
       "</table>\n",
       "</div>"
      ],
      "text/plain": [
       "                X           Y\n",
       "count  300.000000  300.000000\n",
       "mean   150.500000  102.215556\n",
       "std     86.746758   57.842711\n",
       "min      1.000000    1.888889\n",
       "25%     75.750000   52.388889\n",
       "50%    150.500000  102.222222\n",
       "75%    225.250000  152.055556\n",
       "max    300.000000  201.888889"
      ]
     },
     "execution_count": 3,
     "metadata": {},
     "output_type": "execute_result"
    }
   ],
   "source": [
    "# Check Description\n",
    "df.describe()"
   ]
  },
  {
   "cell_type": "code",
   "execution_count": 4,
   "id": "171dad2a",
   "metadata": {},
   "outputs": [
    {
     "data": {
      "text/plain": [
       "(300, 2)"
      ]
     },
     "execution_count": 4,
     "metadata": {},
     "output_type": "execute_result"
    }
   ],
   "source": [
    "# Check shape\n",
    "df.shape"
   ]
  },
  {
   "cell_type": "code",
   "execution_count": 5,
   "id": "c341184f",
   "metadata": {},
   "outputs": [
    {
     "name": "stdout",
     "output_type": "stream",
     "text": [
      "<class 'pandas.core.frame.DataFrame'>\n",
      "RangeIndex: 300 entries, 0 to 299\n",
      "Data columns (total 2 columns):\n",
      " #   Column  Non-Null Count  Dtype  \n",
      "---  ------  --------------  -----  \n",
      " 0   X       300 non-null    int64  \n",
      " 1   Y       300 non-null    float64\n",
      "dtypes: float64(1), int64(1)\n",
      "memory usage: 4.8 KB\n"
     ]
    }
   ],
   "source": [
    "# Check info\n",
    "df.info()"
   ]
  },
  {
   "cell_type": "code",
   "execution_count": 6,
   "id": "824d2465",
   "metadata": {},
   "outputs": [
    {
     "data": {
      "text/plain": [
       "X    0\n",
       "Y    0\n",
       "dtype: int64"
      ]
     },
     "execution_count": 6,
     "metadata": {},
     "output_type": "execute_result"
    }
   ],
   "source": [
    "# Check null values\n",
    "df.isna().sum()"
   ]
  },
  {
   "cell_type": "markdown",
   "id": "bc1e7184",
   "metadata": {},
   "source": [
    "No missing values are present."
   ]
  },
  {
   "cell_type": "code",
   "execution_count": 7,
   "id": "99c2c116",
   "metadata": {},
   "outputs": [
    {
     "data": {
      "text/html": [
       "<div>\n",
       "<style scoped>\n",
       "    .dataframe tbody tr th:only-of-type {\n",
       "        vertical-align: middle;\n",
       "    }\n",
       "\n",
       "    .dataframe tbody tr th {\n",
       "        vertical-align: top;\n",
       "    }\n",
       "\n",
       "    .dataframe thead th {\n",
       "        text-align: right;\n",
       "    }\n",
       "</style>\n",
       "<table border=\"1\" class=\"dataframe\">\n",
       "  <thead>\n",
       "    <tr style=\"text-align: right;\">\n",
       "      <th></th>\n",
       "      <th>X</th>\n",
       "      <th>Y</th>\n",
       "    </tr>\n",
       "  </thead>\n",
       "  <tbody>\n",
       "    <tr>\n",
       "      <th>X</th>\n",
       "      <td>1.000000</td>\n",
       "      <td>0.959876</td>\n",
       "    </tr>\n",
       "    <tr>\n",
       "      <th>Y</th>\n",
       "      <td>0.959876</td>\n",
       "      <td>1.000000</td>\n",
       "    </tr>\n",
       "  </tbody>\n",
       "</table>\n",
       "</div>"
      ],
      "text/plain": [
       "          X         Y\n",
       "X  1.000000  0.959876\n",
       "Y  0.959876  1.000000"
      ]
     },
     "execution_count": 7,
     "metadata": {},
     "output_type": "execute_result"
    }
   ],
   "source": [
    "# WE use corr method corelation with column in the dataframe\n",
    "df.corr()"
   ]
  },
  {
   "cell_type": "markdown",
   "id": "56715333",
   "metadata": {},
   "source": [
    "The data is highly co related."
   ]
  },
  {
   "cell_type": "code",
   "execution_count": 8,
   "id": "c5ec4d94",
   "metadata": {},
   "outputs": [
    {
     "data": {
      "text/html": [
       "<div>\n",
       "<style scoped>\n",
       "    .dataframe tbody tr th:only-of-type {\n",
       "        vertical-align: middle;\n",
       "    }\n",
       "\n",
       "    .dataframe tbody tr th {\n",
       "        vertical-align: top;\n",
       "    }\n",
       "\n",
       "    .dataframe thead th {\n",
       "        text-align: right;\n",
       "    }\n",
       "</style>\n",
       "<table border=\"1\" class=\"dataframe\">\n",
       "  <thead>\n",
       "    <tr style=\"text-align: right;\">\n",
       "      <th></th>\n",
       "      <th>X</th>\n",
       "      <th>Y</th>\n",
       "    </tr>\n",
       "  </thead>\n",
       "  <tbody>\n",
       "    <tr>\n",
       "      <th>0</th>\n",
       "      <td>1</td>\n",
       "      <td>3.888889</td>\n",
       "    </tr>\n",
       "    <tr>\n",
       "      <th>1</th>\n",
       "      <td>2</td>\n",
       "      <td>4.555556</td>\n",
       "    </tr>\n",
       "    <tr>\n",
       "      <th>2</th>\n",
       "      <td>3</td>\n",
       "      <td>5.222222</td>\n",
       "    </tr>\n",
       "    <tr>\n",
       "      <th>3</th>\n",
       "      <td>4</td>\n",
       "      <td>5.888889</td>\n",
       "    </tr>\n",
       "    <tr>\n",
       "      <th>4</th>\n",
       "      <td>5</td>\n",
       "      <td>6.555556</td>\n",
       "    </tr>\n",
       "  </tbody>\n",
       "</table>\n",
       "</div>"
      ],
      "text/plain": [
       "   X         Y\n",
       "0  1  3.888889\n",
       "1  2  4.555556\n",
       "2  3  5.222222\n",
       "3  4  5.888889\n",
       "4  5  6.555556"
      ]
     },
     "execution_count": 8,
     "metadata": {},
     "output_type": "execute_result"
    }
   ],
   "source": [
    "# First 5 rows\n",
    "df.head()"
   ]
  },
  {
   "cell_type": "code",
   "execution_count": 26,
   "id": "ce21141d",
   "metadata": {},
   "outputs": [
    {
     "data": {
      "text/plain": [
       "array([[1],\n",
       "       [2],\n",
       "       [3]], dtype=int64)"
      ]
     },
     "execution_count": 26,
     "metadata": {},
     "output_type": "execute_result"
    }
   ],
   "source": [
    "# Seperate the input and output\n",
    "x1 = df['X'].values\n",
    "X=x1.reshape(-1,1)\n",
    "X[:3]"
   ]
  },
  {
   "cell_type": "code",
   "execution_count": 27,
   "id": "2d44ac26",
   "metadata": {},
   "outputs": [
    {
     "data": {
      "text/plain": [
       "0    3.888889\n",
       "1    4.555556\n",
       "2    5.222222\n",
       "Name: Y, dtype: float64"
      ]
     },
     "execution_count": 27,
     "metadata": {},
     "output_type": "execute_result"
    }
   ],
   "source": [
    "y = df.Y\n",
    "y[:3]"
   ]
  },
  {
   "cell_type": "code",
   "execution_count": 28,
   "id": "86651c6d",
   "metadata": {},
   "outputs": [
    {
     "data": {
      "image/png": "[encoded data removed]",
      "text/plain": [
       "<Figure size 1000x700 with 1 Axes>"
      ]
     },
     "metadata": {},
     "output_type": "display_data"
    }
   ],
   "source": [
    "plt.figure(figsize=(10,7))\n",
    "plt.scatter(X,y)\n",
    "plt.title('Relation of data')\n",
    "plt.show()"
   ]
  },
  {
   "cell_type": "code",
   "execution_count": 29,
   "id": "4cf3e013",
   "metadata": {},
   "outputs": [
    {
     "data": {
      "text/plain": [
       "<AxesSubplot:>"
      ]
     },
     "execution_count": 29,
     "metadata": {},
     "output_type": "execute_result"
    },
    {
     "data": {
      "image/png": "[encoded data removed]",
      "text/plain": [
       "<Figure size 640x480 with 1 Axes>"
      ]
     },
     "metadata": {},
     "output_type": "display_data"
    }
   ],
   "source": [
    "# check outlier\n",
    "sns.boxplot(data=df)"
   ]
  },
  {
   "cell_type": "markdown",
   "id": "5746a06d",
   "metadata": {},
   "source": [
    "### Train and testing data"
   ]
  },
  {
   "cell_type": "code",
   "execution_count": 30,
   "id": "40f915ca",
   "metadata": {},
   "outputs": [],
   "source": [
    "from sklearn.model_selection import train_test_split"
   ]
  },
  {
   "cell_type": "code",
   "execution_count": 31,
   "id": "e65e1b8f",
   "metadata": {},
   "outputs": [],
   "source": [
    "X_train,X_test,y_train,y_test = train_test_split(X,y,test_size=0.2,random_state=42)"
   ]
  },
  {
   "cell_type": "code",
   "execution_count": 32,
   "id": "c30cb378",
   "metadata": {},
   "outputs": [
    {
     "data": {
      "text/plain": [
       "(array([[233],\n",
       "        [ 60],\n",
       "        [  7],\n",
       "        [186],\n",
       "        [174],\n",
       "        [ 31],\n",
       "        [ 23],\n",
       "        [257],\n",
       "        [ 57],\n",
       "        [187],\n",
       "        [109],\n",
       "        [127],\n",
       "        [231],\n",
       "        [194],\n",
       "        [130],\n",
       "        [283],\n",
       "        [ 83],\n",
       "        [ 85],\n",
       "        [ 67],\n",
       "        [289],\n",
       "        [164],\n",
       "        [155],\n",
       "        [ 20],\n",
       "        [125],\n",
       "        [ 80],\n",
       "        [115],\n",
       "        [119],\n",
       "        [ 73],\n",
       "        [ 16],\n",
       "        [ 11],\n",
       "        [195],\n",
       "        [102],\n",
       "        [ 69],\n",
       "        [225],\n",
       "        [ 38],\n",
       "        [ 17],\n",
       "        [180],\n",
       "        [148],\n",
       "        [275],\n",
       "        [ 68],\n",
       "        [229],\n",
       "        [ 70],\n",
       "        [ 32],\n",
       "        [184],\n",
       "        [266],\n",
       "        [226],\n",
       "        [141],\n",
       "        [ 19],\n",
       "        [182],\n",
       "        [ 97],\n",
       "        [133],\n",
       "        [263],\n",
       "        [ 87],\n",
       "        [249],\n",
       "        [246],\n",
       "        [117],\n",
       "        [147],\n",
       "        [293],\n",
       "        [198],\n",
       "        [207],\n",
       "        [ 56],\n",
       "        [173],\n",
       "        [185],\n",
       "        [168],\n",
       "        [140],\n",
       "        [254],\n",
       "        [ 39],\n",
       "        [126],\n",
       "        [196],\n",
       "        [284],\n",
       "        [138],\n",
       "        [113],\n",
       "        [169],\n",
       "        [118],\n",
       "        [278],\n",
       "        [272],\n",
       "        [156],\n",
       "        [177],\n",
       "        [179],\n",
       "        [  3],\n",
       "        [116],\n",
       "        [144],\n",
       "        [178],\n",
       "        [121],\n",
       "        [211],\n",
       "        [261],\n",
       "        [128],\n",
       "        [ 75],\n",
       "        [ 30],\n",
       "        [ 84],\n",
       "        [270],\n",
       "        [108],\n",
       "        [224],\n",
       "        [159],\n",
       "        [281],\n",
       "        [247],\n",
       "        [223],\n",
       "        [ 66],\n",
       "        [199],\n",
       "        [ 86],\n",
       "        [214],\n",
       "        [160],\n",
       "        [ 13],\n",
       "        [ 36],\n",
       "        [ 29],\n",
       "        [143],\n",
       "        [285],\n",
       "        [255],\n",
       "        [171],\n",
       "        [ 52],\n",
       "        [ 96],\n",
       "        [209],\n",
       "        [248],\n",
       "        [ 42],\n",
       "        [ 90],\n",
       "        [245],\n",
       "        [137],\n",
       "        [ 27],\n",
       "        [294],\n",
       "        [142],\n",
       "        [201],\n",
       "        [  1],\n",
       "        [269],\n",
       "        [273],\n",
       "        [101],\n",
       "        [260],\n",
       "        [256],\n",
       "        [172],\n",
       "        [ 99],\n",
       "        [ 37],\n",
       "        [ 62],\n",
       "        [151],\n",
       "        [237],\n",
       "        [203],\n",
       "        [243],\n",
       "        [ 12],\n",
       "        [297],\n",
       "        [268],\n",
       "        [ 28],\n",
       "        [220],\n",
       "        [  5],\n",
       "        [123],\n",
       "        [ 33],\n",
       "        [205],\n",
       "        [163],\n",
       "        [210],\n",
       "        [286],\n",
       "        [139],\n",
       "        [ 63],\n",
       "        [136],\n",
       "        [129],\n",
       "        [291],\n",
       "        [  9],\n",
       "        [ 71],\n",
       "        [265],\n",
       "        [ 65],\n",
       "        [ 45],\n",
       "        [280],\n",
       "        [157],\n",
       "        [ 41],\n",
       "        [124],\n",
       "        [276],\n",
       "        [217],\n",
       "        [154],\n",
       "        [ 24],\n",
       "        [262],\n",
       "        [111],\n",
       "        [ 82],\n",
       "        [208],\n",
       "        [213],\n",
       "        [ 40],\n",
       "        [241],\n",
       "        [292],\n",
       "        [259],\n",
       "        [200],\n",
       "        [ 15],\n",
       "        [ 48],\n",
       "        [ 95],\n",
       "        [264],\n",
       "        [228],\n",
       "        [274],\n",
       "        [202],\n",
       "        [162],\n",
       "        [ 44],\n",
       "        [218],\n",
       "        [146],\n",
       "        [191],\n",
       "        [221],\n",
       "        [252],\n",
       "        [  4],\n",
       "        [106],\n",
       "        [ 54],\n",
       "        [134],\n",
       "        [  2],\n",
       "        [132],\n",
       "        [104],\n",
       "        [ 50],\n",
       "        [ 81],\n",
       "        [206],\n",
       "        [ 35],\n",
       "        [ 92],\n",
       "        [ 53],\n",
       "        [242],\n",
       "        [ 14],\n",
       "        [ 89],\n",
       "        [167],\n",
       "        [295],\n",
       "        [135],\n",
       "        [288],\n",
       "        [244],\n",
       "        [ 55],\n",
       "        [ 51],\n",
       "        [175],\n",
       "        [190],\n",
       "        [299],\n",
       "        [188],\n",
       "        [170],\n",
       "        [ 59],\n",
       "        [ 49],\n",
       "        [236],\n",
       "        [253],\n",
       "        [ 22],\n",
       "        [161],\n",
       "        [277],\n",
       "        [192],\n",
       "        [258],\n",
       "        [150],\n",
       "        [131],\n",
       "        [152],\n",
       "        [100],\n",
       "        [ 88],\n",
       "        [215],\n",
       "        [122],\n",
       "        [300],\n",
       "        [ 21],\n",
       "        [189],\n",
       "        [ 72],\n",
       "        [107],\n",
       "        [271],\n",
       "        [103]], dtype=int64),\n",
       " array([[204],\n",
       "        [267],\n",
       "        [153],\n",
       "        [ 10],\n",
       "        [234],\n",
       "        [227],\n",
       "        [197],\n",
       "        [110],\n",
       "        [  6],\n",
       "        [176],\n",
       "        [238],\n",
       "        [ 58],\n",
       "        [219],\n",
       "        [ 46],\n",
       "        [183],\n",
       "        [222],\n",
       "        [290],\n",
       "        [212],\n",
       "        [149],\n",
       "        [166],\n",
       "        [ 79],\n",
       "        [114],\n",
       "        [250],\n",
       "        [251],\n",
       "        [105],\n",
       "        [ 43],\n",
       "        [282],\n",
       "        [296],\n",
       "        [158],\n",
       "        [239],\n",
       "        [ 18],\n",
       "        [165],\n",
       "        [ 34],\n",
       "        [ 25],\n",
       "        [216],\n",
       "        [120],\n",
       "        [  8],\n",
       "        [ 91],\n",
       "        [ 47],\n",
       "        [ 74],\n",
       "        [ 94],\n",
       "        [ 77],\n",
       "        [287],\n",
       "        [ 61],\n",
       "        [ 78],\n",
       "        [ 64],\n",
       "        [235],\n",
       "        [230],\n",
       "        [112],\n",
       "        [232],\n",
       "        [181],\n",
       "        [145],\n",
       "        [240],\n",
       "        [ 76],\n",
       "        [298],\n",
       "        [279],\n",
       "        [ 98],\n",
       "        [ 93],\n",
       "        [193],\n",
       "        [ 26]], dtype=int64),\n",
       " 232    158.555556\n",
       " 59      43.222222\n",
       " 6        7.888889\n",
       " 185    127.222222\n",
       " 173    119.222222\n",
       "           ...    \n",
       " 188    129.222222\n",
       " 71      51.222222\n",
       " 106     74.555556\n",
       " 270    183.888889\n",
       " 102     71.888889\n",
       " Name: Y, Length: 240, dtype: float64,\n",
       " 203    139.222222\n",
       " 266    181.222222\n",
       " 152    105.222222\n",
       " 9        9.888889\n",
       " 233    159.222222\n",
       " 226    154.555556\n",
       " 196    134.555556\n",
       " 109     76.555556\n",
       " 5        7.222222\n",
       " 175    120.555556\n",
       " 237    161.888889\n",
       " 57      41.888889\n",
       " 218    149.222222\n",
       " 45      33.888889\n",
       " 182    125.222222\n",
       " 221    151.222222\n",
       " 289    196.555556\n",
       " 211    144.555556\n",
       " 148    102.555556\n",
       " 165    113.888889\n",
       " 78      55.888889\n",
       " 113     79.222222\n",
       " 249    169.888889\n",
       " 250    170.555556\n",
       " 104     73.222222\n",
       " 42      31.888889\n",
       " 281    191.222222\n",
       " 295    200.555556\n",
       " 157    108.555556\n",
       " 238    162.555556\n",
       " 17      15.222222\n",
       " 164    113.222222\n",
       " 33      25.888889\n",
       " 24      19.888889\n",
       " 215    147.222222\n",
       " 119     83.222222\n",
       " 7        8.555556\n",
       " 90      63.888889\n",
       " 46      34.555556\n",
       " 73      52.555556\n",
       " 93      65.888889\n",
       " 76      54.555556\n",
       " 286    194.555556\n",
       " 60      43.888889\n",
       " 77      55.222222\n",
       " 63      45.888889\n",
       " 234    159.888889\n",
       " 229    156.555556\n",
       " 111     77.888889\n",
       " 231    157.888889\n",
       " 180    123.888889\n",
       " 144     99.888889\n",
       " 239    163.222222\n",
       " 75      53.888889\n",
       " 297    201.888889\n",
       " 278    189.222222\n",
       " 97      68.555556\n",
       " 92      65.222222\n",
       " 192    131.888889\n",
       " 25      20.555556\n",
       " Name: Y, dtype: float64)"
      ]
     },
     "execution_count": 32,
     "metadata": {},
     "output_type": "execute_result"
    }
   ],
   "source": [
    "#Training data\n",
    "X_train,X_test,y_train,y_test"
   ]
  },
  {
   "cell_type": "code",
   "execution_count": 33,
   "id": "7398f484",
   "metadata": {},
   "outputs": [
    {
     "data": {
      "text/plain": [
       "240"
      ]
     },
     "execution_count": 33,
     "metadata": {},
     "output_type": "execute_result"
    }
   ],
   "source": [
    "len(X_train)"
   ]
  },
  {
   "cell_type": "code",
   "execution_count": 34,
   "id": "cb576bf2",
   "metadata": {},
   "outputs": [
    {
     "data": {
      "text/plain": [
       "240"
      ]
     },
     "execution_count": 34,
     "metadata": {},
     "output_type": "execute_result"
    }
   ],
   "source": [
    "len(y_train)"
   ]
  },
  {
   "cell_type": "code",
   "execution_count": 35,
   "id": "ffb09619",
   "metadata": {},
   "outputs": [],
   "source": [
    "# Testing data"
   ]
  },
  {
   "cell_type": "code",
   "execution_count": 36,
   "id": "c888eee5",
   "metadata": {},
   "outputs": [
    {
     "data": {
      "text/plain": [
       "60"
      ]
     },
     "execution_count": 36,
     "metadata": {},
     "output_type": "execute_result"
    }
   ],
   "source": [
    "len(X_test)"
   ]
  },
  {
   "cell_type": "code",
   "execution_count": 37,
   "id": "0ce8dda6",
   "metadata": {},
   "outputs": [
    {
     "data": {
      "text/plain": [
       "60"
      ]
     },
     "execution_count": 37,
     "metadata": {},
     "output_type": "execute_result"
    }
   ],
   "source": [
    "len(y_test)"
   ]
  },
  {
   "cell_type": "code",
   "execution_count": 38,
   "id": "b73946b3",
   "metadata": {},
   "outputs": [
    {
     "data": {
      "image/png": "[encoded data removed]",
      "text/plain": [
       "<Figure size 640x480 with 1 Axes>"
      ]
     },
     "metadata": {},
     "output_type": "display_data"
    }
   ],
   "source": [
    "plt.scatter(X_train,y_train)\n",
    "plt.title('Traing data',fontsize=16)\n",
    "plt.xlabel('X',fontsize=12)\n",
    "plt.ylabel('y',fontsize=12)\n",
    "plt.show()"
   ]
  },
  {
   "cell_type": "code",
   "execution_count": 39,
   "id": "2ebdf175",
   "metadata": {},
   "outputs": [
    {
     "data": {
      "image/png": "[encoded data removed]",
      "text/plain": [
       "<Figure size 640x480 with 1 Axes>"
      ]
     },
     "metadata": {},
     "output_type": "display_data"
    }
   ],
   "source": [
    "plt.scatter(X_test,y_test)\n",
    "plt.title('Testing data',fontsize=16)\n",
    "plt.xlabel('X',fontsize=12)\n",
    "plt.ylabel('y',fontsize=12)\n",
    "plt.show()"
   ]
  },
  {
   "cell_type": "code",
   "execution_count": 40,
   "id": "9ddb05d9",
   "metadata": {},
   "outputs": [],
   "source": [
    "from sklearn.linear_model import LinearRegression"
   ]
  },
  {
   "cell_type": "markdown",
   "id": "8d76d569",
   "metadata": {},
   "source": [
    "### Training phase"
   ]
  },
  {
   "cell_type": "code",
   "execution_count": 41,
   "id": "71d9357e",
   "metadata": {},
   "outputs": [],
   "source": [
    "model = LinearRegression()"
   ]
  },
  {
   "cell_type": "code",
   "execution_count": 42,
   "id": "d7ed524c",
   "metadata": {},
   "outputs": [
    {
     "data": {
      "text/plain": [
       "LinearRegression()"
      ]
     },
     "execution_count": 42,
     "metadata": {},
     "output_type": "execute_result"
    }
   ],
   "source": [
    "model.fit(X_train,y_train)"
   ]
  },
  {
   "cell_type": "markdown",
   "id": "4b44994b",
   "metadata": {},
   "source": [
    "### Testing phase"
   ]
  },
  {
   "cell_type": "code",
   "execution_count": 43,
   "id": "349247ec",
   "metadata": {},
   "outputs": [
    {
     "data": {
      "text/plain": [
       "array([135.74657151, 175.63456787, 103.45628874,  12.91686842,\n",
       "       154.74085549, 150.3088559 , 131.31457191,  76.23114836,\n",
       "        10.38429722, 118.01857313, 157.27342669,  43.30772279,\n",
       "       145.2437135 ,  35.7100092 , 122.45057272, 147.1431419 ,\n",
       "       190.19685226, 140.8117139 , 100.92371754, 111.68714513,\n",
       "        56.60372158,  78.76371956, 164.87114028, 165.50428308,\n",
       "        73.06543437,  33.8105808 , 185.13170986, 193.99570906,\n",
       "       106.62200274, 157.90656949,  17.98201082, 111.05400233,\n",
       "        28.11229561,  22.41401041, 143.3442851 ,  82.56257636,\n",
       "        11.65058282,  64.20143517,  36.343152  ,  53.43800758,\n",
       "        66.10086357,  55.33743598, 188.29742386,  45.20715119,\n",
       "        55.97057878,  47.10657959, 155.37399829, 152.20828429,\n",
       "        77.49743396, 153.47456989, 121.18428712,  98.39114634,\n",
       "       158.53971229,  54.70429318, 195.26199465, 183.23228147,\n",
       "        68.63343477,  65.46772077, 128.78200072,  23.04715321])"
      ]
     },
     "execution_count": 43,
     "metadata": {},
     "output_type": "execute_result"
    }
   ],
   "source": [
    "model.predict(X_test)"
   ]
  },
  {
   "cell_type": "code",
   "execution_count": 44,
   "id": "43fd9915",
   "metadata": {},
   "outputs": [],
   "source": [
    "y_pred = model.predict(X_test)"
   ]
  },
  {
   "cell_type": "code",
   "execution_count": 53,
   "id": "87a9a9a8",
   "metadata": {},
   "outputs": [
    {
     "data": {
      "text/plain": [
       "90.17863639326755"
      ]
     },
     "execution_count": 53,
     "metadata": {},
     "output_type": "execute_result"
    }
   ],
   "source": [
    "model.score(X_train,y_train)*100"
   ]
  },
  {
   "cell_type": "code",
   "execution_count": 54,
   "id": "7d55dfd8",
   "metadata": {},
   "outputs": [
    {
     "data": {
      "text/plain": [
       "99.6613741998755"
      ]
     },
     "execution_count": 54,
     "metadata": {},
     "output_type": "execute_result"
    }
   ],
   "source": [
    "model.score(X_test,y_test)*100"
   ]
  },
  {
   "cell_type": "code",
   "execution_count": 55,
   "id": "51cfa580",
   "metadata": {},
   "outputs": [
    {
     "name": "stdout",
     "output_type": "stream",
     "text": [
      "Slope of the model is [0.6331428]\n"
     ]
    }
   ],
   "source": [
    "# Slope of the model\n",
    "print(\"Slope of the model is\",model.coef_)"
   ]
  },
  {
   "cell_type": "code",
   "execution_count": 56,
   "id": "ffb3ab12",
   "metadata": {},
   "outputs": [
    {
     "name": "stdout",
     "output_type": "stream",
     "text": [
      "Coefficient of model is 6.585440426796296\n"
     ]
    }
   ],
   "source": [
    "# Coefficient of model is\n",
    "print(\"Coefficient of model is\",model.intercept_)"
   ]
  },
  {
   "cell_type": "code",
   "execution_count": 57,
   "id": "d636c1fa",
   "metadata": {},
   "outputs": [],
   "source": [
    "# Find MAE,MSE and other"
   ]
  },
  {
   "cell_type": "code",
   "execution_count": 58,
   "id": "8cb4430f",
   "metadata": {},
   "outputs": [],
   "source": [
    "from sklearn.metrics import mean_absolute_error,mean_squared_error,r2_score"
   ]
  },
  {
   "cell_type": "markdown",
   "id": "590dfcb8",
   "metadata": {},
   "source": [
    "### MAE"
   ]
  },
  {
   "cell_type": "code",
   "execution_count": 60,
   "id": "8bf30954",
   "metadata": {},
   "outputs": [
    {
     "data": {
      "text/plain": [
       "49.30345516282705"
      ]
     },
     "execution_count": 60,
     "metadata": {},
     "output_type": "execute_result"
    }
   ],
   "source": [
    "mean_absolute_error(X_test,y_pred)"
   ]
  },
  {
   "cell_type": "code",
   "execution_count": 61,
   "id": "2f9a7a59",
   "metadata": {},
   "outputs": [
    {
     "data": {
      "text/plain": [
       "3428.2047398017025"
      ]
     },
     "execution_count": 61,
     "metadata": {},
     "output_type": "execute_result"
    }
   ],
   "source": [
    "mean_squared_error(X_test,y_pred)"
   ]
  },
  {
   "cell_type": "code",
   "execution_count": 63,
   "id": "969c8c91",
   "metadata": {},
   "outputs": [],
   "source": [
    "from math import sqrt"
   ]
  },
  {
   "cell_type": "code",
   "execution_count": 64,
   "id": "022fae4c",
   "metadata": {},
   "outputs": [
    {
     "data": {
      "text/plain": [
       "58.55087309171147"
      ]
     },
     "execution_count": 64,
     "metadata": {},
     "output_type": "execute_result"
    }
   ],
   "source": [
    "sqrt(mean_squared_error(X_test,y_pred))"
   ]
  },
  {
   "cell_type": "code",
   "execution_count": 65,
   "id": "77239e28",
   "metadata": {},
   "outputs": [
    {
     "data": {
      "text/plain": [
       "55.34599104778317"
      ]
     },
     "execution_count": 65,
     "metadata": {},
     "output_type": "execute_result"
    }
   ],
   "source": [
    "r2_score(X_test,y_pred)*100"
   ]
  },
  {
   "cell_type": "code",
   "execution_count": null,
   "id": "f445a4f3",
   "metadata": {},
   "outputs": [],
   "source": []
  }
 ],
 "metadata": {
  "kernelspec": {
   "display_name": "Python 3 (ipykernel)",
   "language": "python",
   "name": "python3"
  },
  "language_info": {
   "codemirror_mode": {
    "name": "ipython",
    "version": 3
   },
   "file_extension": ".py",
   "mimetype": "text/x-python",
   "name": "python",
   "nbconvert_exporter": "python",
   "pygments_lexer": "ipython3",
   "version": "3.9.13"
  }
 },
 "nbformat": 4,
 "nbformat_minor": 5
}
