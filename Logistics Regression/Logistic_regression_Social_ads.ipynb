{
 "cells": [
  {
   "cell_type": "code",
   "execution_count": 1,
   "id": "3f51ddb8",
   "metadata": {},
   "outputs": [
    {
     "name": "stdout",
     "output_type": "stream",
     "text": [
      "Libraries imported sucessfully\n"
     ]
    }
   ],
   "source": [
    "import numpy as np\n",
    "import pandas as pd\n",
    "import matplotlib.pyplot as plt\n",
    "%matplotlib inline\n",
    "import seaborn as sns\n",
    "print('Libraries imported sucessfully')"
   ]
  },
  {
   "cell_type": "code",
   "execution_count": 2,
   "id": "4e2cb163",
   "metadata": {},
   "outputs": [],
   "source": [
    "import warnings\n",
    "warnings.filterwarnings('ignore')"
   ]
  },
  {
   "cell_type": "code",
   "execution_count": 3,
   "id": "a198e6c4",
   "metadata": {},
   "outputs": [],
   "source": [
    "plt.rcParams['axes.labelsize'] = 12\n",
    "plt.rcParams['axes.titlesize'] = 16"
   ]
  },
  {
   "cell_type": "markdown",
   "id": "7d415974",
   "metadata": {},
   "source": [
    "### Load the dataset"
   ]
  },
  {
   "cell_type": "code",
   "execution_count": 4,
   "id": "e0561cdd",
   "metadata": {},
   "outputs": [
    {
     "data": {
      "text/html": [
       "<div>\n",
       "<style scoped>\n",
       "    .dataframe tbody tr th:only-of-type {\n",
       "        vertical-align: middle;\n",
       "    }\n",
       "\n",
       "    .dataframe tbody tr th {\n",
       "        vertical-align: top;\n",
       "    }\n",
       "\n",
       "    .dataframe thead th {\n",
       "        text-align: right;\n",
       "    }\n",
       "</style>\n",
       "<table border=\"1\" class=\"dataframe\">\n",
       "  <thead>\n",
       "    <tr style=\"text-align: right;\">\n",
       "      <th></th>\n",
       "      <th>User ID</th>\n",
       "      <th>Gender</th>\n",
       "      <th>Age</th>\n",
       "      <th>EstimatedSalary</th>\n",
       "      <th>Purchased</th>\n",
       "    </tr>\n",
       "  </thead>\n",
       "  <tbody>\n",
       "    <tr>\n",
       "      <th>0</th>\n",
       "      <td>15624510</td>\n",
       "      <td>Male</td>\n",
       "      <td>19</td>\n",
       "      <td>19000</td>\n",
       "      <td>0</td>\n",
       "    </tr>\n",
       "    <tr>\n",
       "      <th>1</th>\n",
       "      <td>15810944</td>\n",
       "      <td>Male</td>\n",
       "      <td>35</td>\n",
       "      <td>20000</td>\n",
       "      <td>0</td>\n",
       "    </tr>\n",
       "    <tr>\n",
       "      <th>2</th>\n",
       "      <td>15668575</td>\n",
       "      <td>Female</td>\n",
       "      <td>26</td>\n",
       "      <td>43000</td>\n",
       "      <td>0</td>\n",
       "    </tr>\n",
       "  </tbody>\n",
       "</table>\n",
       "</div>"
      ],
      "text/plain": [
       "    User ID  Gender  Age  EstimatedSalary  Purchased\n",
       "0  15624510    Male   19            19000          0\n",
       "1  15810944    Male   35            20000          0\n",
       "2  15668575  Female   26            43000          0"
      ]
     },
     "execution_count": 4,
     "metadata": {},
     "output_type": "execute_result"
    }
   ],
   "source": [
    "df = pd.read_csv('Social_Network_Ads.csv')\n",
    "df[:3]"
   ]
  },
  {
   "cell_type": "code",
   "execution_count": 5,
   "id": "cb5d21a7",
   "metadata": {},
   "outputs": [
    {
     "data": {
      "text/plain": [
       "(400, 5)"
      ]
     },
     "execution_count": 5,
     "metadata": {},
     "output_type": "execute_result"
    }
   ],
   "source": [
    "# Shape \n",
    "df.shape"
   ]
  },
  {
   "cell_type": "code",
   "execution_count": 6,
   "id": "e15de25f",
   "metadata": {},
   "outputs": [
    {
     "name": "stdout",
     "output_type": "stream",
     "text": [
      "<class 'pandas.core.frame.DataFrame'>\n",
      "RangeIndex: 400 entries, 0 to 399\n",
      "Data columns (total 5 columns):\n",
      " #   Column           Non-Null Count  Dtype \n",
      "---  ------           --------------  ----- \n",
      " 0   User ID          400 non-null    int64 \n",
      " 1   Gender           400 non-null    object\n",
      " 2   Age              400 non-null    int64 \n",
      " 3   EstimatedSalary  400 non-null    int64 \n",
      " 4   Purchased        400 non-null    int64 \n",
      "dtypes: int64(4), object(1)\n",
      "memory usage: 15.8+ KB\n"
     ]
    }
   ],
   "source": [
    "# Summary of data\n",
    "df.info()"
   ]
  },
  {
   "cell_type": "code",
   "execution_count": 7,
   "id": "abf21103",
   "metadata": {},
   "outputs": [
    {
     "data": {
      "text/html": [
       "<div>\n",
       "<style scoped>\n",
       "    .dataframe tbody tr th:only-of-type {\n",
       "        vertical-align: middle;\n",
       "    }\n",
       "\n",
       "    .dataframe tbody tr th {\n",
       "        vertical-align: top;\n",
       "    }\n",
       "\n",
       "    .dataframe thead th {\n",
       "        text-align: right;\n",
       "    }\n",
       "</style>\n",
       "<table border=\"1\" class=\"dataframe\">\n",
       "  <thead>\n",
       "    <tr style=\"text-align: right;\">\n",
       "      <th></th>\n",
       "      <th>User ID</th>\n",
       "      <th>Age</th>\n",
       "      <th>EstimatedSalary</th>\n",
       "      <th>Purchased</th>\n",
       "    </tr>\n",
       "  </thead>\n",
       "  <tbody>\n",
       "    <tr>\n",
       "      <th>count</th>\n",
       "      <td>4.000000e+02</td>\n",
       "      <td>400.000000</td>\n",
       "      <td>400.000000</td>\n",
       "      <td>400.000000</td>\n",
       "    </tr>\n",
       "    <tr>\n",
       "      <th>mean</th>\n",
       "      <td>1.569154e+07</td>\n",
       "      <td>37.655000</td>\n",
       "      <td>69742.500000</td>\n",
       "      <td>0.357500</td>\n",
       "    </tr>\n",
       "    <tr>\n",
       "      <th>std</th>\n",
       "      <td>7.165832e+04</td>\n",
       "      <td>10.482877</td>\n",
       "      <td>34096.960282</td>\n",
       "      <td>0.479864</td>\n",
       "    </tr>\n",
       "    <tr>\n",
       "      <th>min</th>\n",
       "      <td>1.556669e+07</td>\n",
       "      <td>18.000000</td>\n",
       "      <td>15000.000000</td>\n",
       "      <td>0.000000</td>\n",
       "    </tr>\n",
       "    <tr>\n",
       "      <th>25%</th>\n",
       "      <td>1.562676e+07</td>\n",
       "      <td>29.750000</td>\n",
       "      <td>43000.000000</td>\n",
       "      <td>0.000000</td>\n",
       "    </tr>\n",
       "    <tr>\n",
       "      <th>50%</th>\n",
       "      <td>1.569434e+07</td>\n",
       "      <td>37.000000</td>\n",
       "      <td>70000.000000</td>\n",
       "      <td>0.000000</td>\n",
       "    </tr>\n",
       "    <tr>\n",
       "      <th>75%</th>\n",
       "      <td>1.575036e+07</td>\n",
       "      <td>46.000000</td>\n",
       "      <td>88000.000000</td>\n",
       "      <td>1.000000</td>\n",
       "    </tr>\n",
       "    <tr>\n",
       "      <th>max</th>\n",
       "      <td>1.581524e+07</td>\n",
       "      <td>60.000000</td>\n",
       "      <td>150000.000000</td>\n",
       "      <td>1.000000</td>\n",
       "    </tr>\n",
       "  </tbody>\n",
       "</table>\n",
       "</div>"
      ],
      "text/plain": [
       "            User ID         Age  EstimatedSalary   Purchased\n",
       "count  4.000000e+02  400.000000       400.000000  400.000000\n",
       "mean   1.569154e+07   37.655000     69742.500000    0.357500\n",
       "std    7.165832e+04   10.482877     34096.960282    0.479864\n",
       "min    1.556669e+07   18.000000     15000.000000    0.000000\n",
       "25%    1.562676e+07   29.750000     43000.000000    0.000000\n",
       "50%    1.569434e+07   37.000000     70000.000000    0.000000\n",
       "75%    1.575036e+07   46.000000     88000.000000    1.000000\n",
       "max    1.581524e+07   60.000000    150000.000000    1.000000"
      ]
     },
     "execution_count": 7,
     "metadata": {},
     "output_type": "execute_result"
    }
   ],
   "source": [
    "# Description\n",
    "df.describe()"
   ]
  },
  {
   "cell_type": "code",
   "execution_count": 8,
   "id": "4c5aef74",
   "metadata": {},
   "outputs": [
    {
     "data": {
      "text/plain": [
       "User ID            0\n",
       "Gender             0\n",
       "Age                0\n",
       "EstimatedSalary    0\n",
       "Purchased          0\n",
       "dtype: int64"
      ]
     },
     "execution_count": 8,
     "metadata": {},
     "output_type": "execute_result"
    }
   ],
   "source": [
    "# Check null value\n",
    "df.isna().sum()"
   ]
  },
  {
   "cell_type": "code",
   "execution_count": 10,
   "id": "71c21a56",
   "metadata": {},
   "outputs": [
    {
     "data": {
      "text/plain": [
       "0"
      ]
     },
     "execution_count": 10,
     "metadata": {},
     "output_type": "execute_result"
    }
   ],
   "source": [
    "# Check duplicat\n",
    "df.duplicated().sum()"
   ]
  },
  {
   "cell_type": "code",
   "execution_count": 11,
   "id": "93c64990",
   "metadata": {},
   "outputs": [
    {
     "data": {
      "text/html": [
       "<div>\n",
       "<style scoped>\n",
       "    .dataframe tbody tr th:only-of-type {\n",
       "        vertical-align: middle;\n",
       "    }\n",
       "\n",
       "    .dataframe tbody tr th {\n",
       "        vertical-align: top;\n",
       "    }\n",
       "\n",
       "    .dataframe thead th {\n",
       "        text-align: right;\n",
       "    }\n",
       "</style>\n",
       "<table border=\"1\" class=\"dataframe\">\n",
       "  <thead>\n",
       "    <tr style=\"text-align: right;\">\n",
       "      <th></th>\n",
       "      <th>User ID</th>\n",
       "      <th>Gender</th>\n",
       "      <th>Age</th>\n",
       "      <th>EstimatedSalary</th>\n",
       "      <th>Purchased</th>\n",
       "    </tr>\n",
       "  </thead>\n",
       "  <tbody>\n",
       "    <tr>\n",
       "      <th>0</th>\n",
       "      <td>15624510</td>\n",
       "      <td>Male</td>\n",
       "      <td>19</td>\n",
       "      <td>19000</td>\n",
       "      <td>0</td>\n",
       "    </tr>\n",
       "    <tr>\n",
       "      <th>1</th>\n",
       "      <td>15810944</td>\n",
       "      <td>Male</td>\n",
       "      <td>35</td>\n",
       "      <td>20000</td>\n",
       "      <td>0</td>\n",
       "    </tr>\n",
       "    <tr>\n",
       "      <th>2</th>\n",
       "      <td>15668575</td>\n",
       "      <td>Female</td>\n",
       "      <td>26</td>\n",
       "      <td>43000</td>\n",
       "      <td>0</td>\n",
       "    </tr>\n",
       "    <tr>\n",
       "      <th>3</th>\n",
       "      <td>15603246</td>\n",
       "      <td>Female</td>\n",
       "      <td>27</td>\n",
       "      <td>57000</td>\n",
       "      <td>0</td>\n",
       "    </tr>\n",
       "    <tr>\n",
       "      <th>4</th>\n",
       "      <td>15804002</td>\n",
       "      <td>Male</td>\n",
       "      <td>19</td>\n",
       "      <td>76000</td>\n",
       "      <td>0</td>\n",
       "    </tr>\n",
       "  </tbody>\n",
       "</table>\n",
       "</div>"
      ],
      "text/plain": [
       "    User ID  Gender  Age  EstimatedSalary  Purchased\n",
       "0  15624510    Male   19            19000          0\n",
       "1  15810944    Male   35            20000          0\n",
       "2  15668575  Female   26            43000          0\n",
       "3  15603246  Female   27            57000          0\n",
       "4  15804002    Male   19            76000          0"
      ]
     },
     "execution_count": 11,
     "metadata": {},
     "output_type": "execute_result"
    }
   ],
   "source": [
    "#First 5 rows\n",
    "df.head()"
   ]
  },
  {
   "cell_type": "code",
   "execution_count": 12,
   "id": "1bc48273",
   "metadata": {},
   "outputs": [
    {
     "data": {
      "text/html": [
       "<div>\n",
       "<style scoped>\n",
       "    .dataframe tbody tr th:only-of-type {\n",
       "        vertical-align: middle;\n",
       "    }\n",
       "\n",
       "    .dataframe tbody tr th {\n",
       "        vertical-align: top;\n",
       "    }\n",
       "\n",
       "    .dataframe thead th {\n",
       "        text-align: right;\n",
       "    }\n",
       "</style>\n",
       "<table border=\"1\" class=\"dataframe\">\n",
       "  <thead>\n",
       "    <tr style=\"text-align: right;\">\n",
       "      <th></th>\n",
       "      <th>User ID</th>\n",
       "      <th>Gender</th>\n",
       "      <th>Age</th>\n",
       "      <th>EstimatedSalary</th>\n",
       "      <th>Purchased</th>\n",
       "    </tr>\n",
       "  </thead>\n",
       "  <tbody>\n",
       "    <tr>\n",
       "      <th>395</th>\n",
       "      <td>15691863</td>\n",
       "      <td>Female</td>\n",
       "      <td>46</td>\n",
       "      <td>41000</td>\n",
       "      <td>1</td>\n",
       "    </tr>\n",
       "    <tr>\n",
       "      <th>396</th>\n",
       "      <td>15706071</td>\n",
       "      <td>Male</td>\n",
       "      <td>51</td>\n",
       "      <td>23000</td>\n",
       "      <td>1</td>\n",
       "    </tr>\n",
       "    <tr>\n",
       "      <th>397</th>\n",
       "      <td>15654296</td>\n",
       "      <td>Female</td>\n",
       "      <td>50</td>\n",
       "      <td>20000</td>\n",
       "      <td>1</td>\n",
       "    </tr>\n",
       "    <tr>\n",
       "      <th>398</th>\n",
       "      <td>15755018</td>\n",
       "      <td>Male</td>\n",
       "      <td>36</td>\n",
       "      <td>33000</td>\n",
       "      <td>0</td>\n",
       "    </tr>\n",
       "    <tr>\n",
       "      <th>399</th>\n",
       "      <td>15594041</td>\n",
       "      <td>Female</td>\n",
       "      <td>49</td>\n",
       "      <td>36000</td>\n",
       "      <td>1</td>\n",
       "    </tr>\n",
       "  </tbody>\n",
       "</table>\n",
       "</div>"
      ],
      "text/plain": [
       "      User ID  Gender  Age  EstimatedSalary  Purchased\n",
       "395  15691863  Female   46            41000          1\n",
       "396  15706071    Male   51            23000          1\n",
       "397  15654296  Female   50            20000          1\n",
       "398  15755018    Male   36            33000          0\n",
       "399  15594041  Female   49            36000          1"
      ]
     },
     "execution_count": 12,
     "metadata": {},
     "output_type": "execute_result"
    }
   ],
   "source": [
    "# Last five rows\n",
    "df.tail()"
   ]
  },
  {
   "cell_type": "markdown",
   "id": "f9c5f8b3",
   "metadata": {},
   "source": [
    "### EDA"
   ]
  },
  {
   "cell_type": "markdown",
   "id": "6b596322",
   "metadata": {},
   "source": [
    "##### Count the number female and male"
   ]
  },
  {
   "cell_type": "code",
   "execution_count": 14,
   "id": "2178f8d6",
   "metadata": {},
   "outputs": [],
   "source": [
    "plt.style.use('fivethirtyeight')"
   ]
  },
  {
   "cell_type": "code",
   "execution_count": 15,
   "id": "9b1e30e7",
   "metadata": {},
   "outputs": [
    {
     "data": {
      "text/plain": [
       "Female    204\n",
       "Male      196\n",
       "Name: Gender, dtype: int64"
      ]
     },
     "execution_count": 15,
     "metadata": {},
     "output_type": "execute_result"
    }
   ],
   "source": [
    "df.Gender.value_counts()"
   ]
  },
  {
   "cell_type": "code",
   "execution_count": 16,
   "id": "213dc427",
   "metadata": {},
   "outputs": [
    {
     "data": {
      "image/png": "[encoded data removed]",
      "text/plain": [
       "<Figure size 640x480 with 1 Axes>"
      ]
     },
     "metadata": {},
     "output_type": "display_data"
    }
   ],
   "source": [
    "df.Gender.value_counts().plot(kind='pie',autopct='%1.2f%%')\n",
    "plt.title('Genderwise distribution')\n",
    "plt.show()"
   ]
  },
  {
   "cell_type": "code",
   "execution_count": 17,
   "id": "fdb51bb6",
   "metadata": {},
   "outputs": [
    {
     "data": {
      "text/plain": [
       "<AxesSubplot:xlabel='Age', ylabel='Count'>"
      ]
     },
     "execution_count": 17,
     "metadata": {},
     "output_type": "execute_result"
    },
    {
     "data": {
      "image/png": "[encoded data removed]",
      "text/plain": [
       "<Figure size 640x480 with 1 Axes>"
      ]
     },
     "metadata": {},
     "output_type": "display_data"
    }
   ],
   "source": [
    "sns.histplot(data=df,x='Age',hue='Gender')"
   ]
  },
  {
   "cell_type": "code",
   "execution_count": 20,
   "id": "bed1c378",
   "metadata": {},
   "outputs": [
    {
     "data": {
      "text/plain": [
       "<AxesSubplot:xlabel='Age', ylabel='Density'>"
      ]
     },
     "execution_count": 20,
     "metadata": {},
     "output_type": "execute_result"
    },
    {
     "data": {
      "image/png": "[encoded data removed]",
      "text/plain": [
       "<Figure size 640x480 with 1 Axes>"
      ]
     },
     "metadata": {},
     "output_type": "display_data"
    }
   ],
   "source": [
    "sns.kdeplot(data=df,x='Age',hue='Gender')"
   ]
  },
  {
   "cell_type": "code",
   "execution_count": 24,
   "id": "b808b6f1",
   "metadata": {},
   "outputs": [
    {
     "data": {
      "text/plain": [
       "Text(0.5, 1.0, 'Relation between age and estimated salary hued by gender')"
      ]
     },
     "execution_count": 24,
     "metadata": {},
     "output_type": "execute_result"
    },
    {
     "data": {
      "image/png": "[encoded data removed]",
      "text/plain": [
       "<Figure size 640x480 with 1 Axes>"
      ]
     },
     "metadata": {},
     "output_type": "display_data"
    }
   ],
   "source": [
    "sns.scatterplot(data=df,y='EstimatedSalary',x='Age',hue='Gender')\n",
    "plt.title('Relation between age and estimated salary hued by gender')"
   ]
  },
  {
   "cell_type": "code",
   "execution_count": 25,
   "id": "ca40d874",
   "metadata": {},
   "outputs": [
    {
     "data": {
      "text/plain": [
       "150000"
      ]
     },
     "execution_count": 25,
     "metadata": {},
     "output_type": "execute_result"
    }
   ],
   "source": [
    "# MAximum salary\n",
    "df.EstimatedSalary.max()"
   ]
  },
  {
   "cell_type": "code",
   "execution_count": 26,
   "id": "5ceba609",
   "metadata": {},
   "outputs": [
    {
     "data": {
      "text/plain": [
       "15000"
      ]
     },
     "execution_count": 26,
     "metadata": {},
     "output_type": "execute_result"
    }
   ],
   "source": [
    "# Minimum salary\n",
    "df.EstimatedSalary.min()"
   ]
  },
  {
   "cell_type": "code",
   "execution_count": 34,
   "id": "3bbba4e6",
   "metadata": {},
   "outputs": [
    {
     "data": {
      "text/plain": [
       "EstimatedSalary     15000\n",
       "Gender             Female\n",
       "dtype: object"
      ]
     },
     "execution_count": 34,
     "metadata": {},
     "output_type": "execute_result"
    }
   ],
   "source": [
    "# Salary by gender\n",
    "df[['EstimatedSalary','Gender']].min()"
   ]
  },
  {
   "cell_type": "code",
   "execution_count": 35,
   "id": "ea93641b",
   "metadata": {},
   "outputs": [
    {
     "data": {
      "text/plain": [
       "EstimatedSalary    150000\n",
       "Gender               Male\n",
       "dtype: object"
      ]
     },
     "execution_count": 35,
     "metadata": {},
     "output_type": "execute_result"
    }
   ],
   "source": [
    "df[['EstimatedSalary','Gender']].max()"
   ]
  },
  {
   "cell_type": "code",
   "execution_count": 36,
   "id": "014ccbcd",
   "metadata": {},
   "outputs": [
    {
     "data": {
      "text/html": [
       "<div>\n",
       "<style scoped>\n",
       "    .dataframe tbody tr th:only-of-type {\n",
       "        vertical-align: middle;\n",
       "    }\n",
       "\n",
       "    .dataframe tbody tr th {\n",
       "        vertical-align: top;\n",
       "    }\n",
       "\n",
       "    .dataframe thead th {\n",
       "        text-align: right;\n",
       "    }\n",
       "</style>\n",
       "<table border=\"1\" class=\"dataframe\">\n",
       "  <thead>\n",
       "    <tr style=\"text-align: right;\">\n",
       "      <th></th>\n",
       "      <th>User ID</th>\n",
       "      <th>Age</th>\n",
       "      <th>EstimatedSalary</th>\n",
       "      <th>Purchased</th>\n",
       "    </tr>\n",
       "    <tr>\n",
       "      <th>Gender</th>\n",
       "      <th></th>\n",
       "      <th></th>\n",
       "      <th></th>\n",
       "      <th></th>\n",
       "    </tr>\n",
       "  </thead>\n",
       "  <tbody>\n",
       "    <tr>\n",
       "      <th>Female</th>\n",
       "      <td>15566689</td>\n",
       "      <td>18</td>\n",
       "      <td>15000</td>\n",
       "      <td>0</td>\n",
       "    </tr>\n",
       "    <tr>\n",
       "      <th>Male</th>\n",
       "      <td>15570932</td>\n",
       "      <td>18</td>\n",
       "      <td>15000</td>\n",
       "      <td>0</td>\n",
       "    </tr>\n",
       "  </tbody>\n",
       "</table>\n",
       "</div>"
      ],
      "text/plain": [
       "         User ID  Age  EstimatedSalary  Purchased\n",
       "Gender                                           \n",
       "Female  15566689   18            15000          0\n",
       "Male    15570932   18            15000          0"
      ]
     },
     "execution_count": 36,
     "metadata": {},
     "output_type": "execute_result"
    }
   ],
   "source": [
    "# Genderwise minimum salary\n",
    "df.groupby('Gender').min()"
   ]
  },
  {
   "cell_type": "code",
   "execution_count": 38,
   "id": "83f46531",
   "metadata": {},
   "outputs": [
    {
     "data": {
      "text/html": [
       "<div>\n",
       "<style scoped>\n",
       "    .dataframe tbody tr th:only-of-type {\n",
       "        vertical-align: middle;\n",
       "    }\n",
       "\n",
       "    .dataframe tbody tr th {\n",
       "        vertical-align: top;\n",
       "    }\n",
       "\n",
       "    .dataframe thead th {\n",
       "        text-align: right;\n",
       "    }\n",
       "</style>\n",
       "<table border=\"1\" class=\"dataframe\">\n",
       "  <thead>\n",
       "    <tr style=\"text-align: right;\">\n",
       "      <th></th>\n",
       "      <th>User ID</th>\n",
       "      <th>Age</th>\n",
       "      <th>EstimatedSalary</th>\n",
       "      <th>Purchased</th>\n",
       "    </tr>\n",
       "    <tr>\n",
       "      <th>Gender</th>\n",
       "      <th></th>\n",
       "      <th></th>\n",
       "      <th></th>\n",
       "      <th></th>\n",
       "    </tr>\n",
       "  </thead>\n",
       "  <tbody>\n",
       "    <tr>\n",
       "      <th>Female</th>\n",
       "      <td>15815236</td>\n",
       "      <td>60</td>\n",
       "      <td>150000</td>\n",
       "      <td>1</td>\n",
       "    </tr>\n",
       "    <tr>\n",
       "      <th>Male</th>\n",
       "      <td>15814816</td>\n",
       "      <td>60</td>\n",
       "      <td>150000</td>\n",
       "      <td>1</td>\n",
       "    </tr>\n",
       "  </tbody>\n",
       "</table>\n",
       "</div>"
      ],
      "text/plain": [
       "         User ID  Age  EstimatedSalary  Purchased\n",
       "Gender                                           \n",
       "Female  15815236   60           150000          1\n",
       "Male    15814816   60           150000          1"
      ]
     },
     "execution_count": 38,
     "metadata": {},
     "output_type": "execute_result"
    }
   ],
   "source": [
    "# Genderwise maximum salary\n",
    "df.groupby('Gender').max()"
   ]
  },
  {
   "cell_type": "code",
   "execution_count": 39,
   "id": "74714929",
   "metadata": {},
   "outputs": [
    {
     "data": {
      "text/plain": [
       "0    257\n",
       "1    143\n",
       "Name: Purchased, dtype: int64"
      ]
     },
     "execution_count": 39,
     "metadata": {},
     "output_type": "execute_result"
    }
   ],
   "source": [
    "# Count how many has purchased\n",
    "df.Purchased.value_counts()"
   ]
  },
  {
   "cell_type": "code",
   "execution_count": 44,
   "id": "9bc124ff",
   "metadata": {},
   "outputs": [
    {
     "data": {
      "text/plain": [
       "Purchased  Gender\n",
       "0          Male      130\n",
       "           Female    127\n",
       "1          Female     77\n",
       "           Male       66\n",
       "Name: Gender, dtype: int64"
      ]
     },
     "execution_count": 44,
     "metadata": {},
     "output_type": "execute_result"
    }
   ],
   "source": [
    "df.groupby(['Purchased'])['Gender'].value_counts()"
   ]
  },
  {
   "cell_type": "code",
   "execution_count": 45,
   "id": "a8f97651",
   "metadata": {},
   "outputs": [
    {
     "data": {
      "image/png": "[encoded data removed]",
      "text/plain": [
       "<Figure size 640x480 with 1 Axes>"
      ]
     },
     "metadata": {},
     "output_type": "display_data"
    }
   ],
   "source": [
    "sns.countplot(data=df,x='Purchased',hue='Gender')\n",
    "plt.title('Purchased frequency by genderwise')\n",
    "plt.show()"
   ]
  },
  {
   "cell_type": "markdown",
   "id": "8bf5d2ed",
   "metadata": {},
   "source": [
    "From above maximum are not purchased.\n",
    "\n",
    "Female percentage is more in case of purchase."
   ]
  },
  {
   "cell_type": "code",
   "execution_count": 47,
   "id": "bb00b0de",
   "metadata": {},
   "outputs": [
    {
     "data": {
      "image/png": "[encoded data removed]",
      "text/plain": [
       "<Figure size 640x480 with 1 Axes>"
      ]
     },
     "metadata": {},
     "output_type": "display_data"
    }
   ],
   "source": [
    "df.groupby(['Purchased'])['Gender'].value_counts().plot(kind='pie',autopct='%1.2f%%')\n",
    "plt.title('Distribution of purcased by gender')\n",
    "plt.show()"
   ]
  },
  {
   "cell_type": "code",
   "execution_count": 51,
   "id": "023de26a",
   "metadata": {},
   "outputs": [
    {
     "data": {
      "text/html": [
       "<div>\n",
       "<style scoped>\n",
       "    .dataframe tbody tr th:only-of-type {\n",
       "        vertical-align: middle;\n",
       "    }\n",
       "\n",
       "    .dataframe tbody tr th {\n",
       "        vertical-align: top;\n",
       "    }\n",
       "\n",
       "    .dataframe thead th {\n",
       "        text-align: right;\n",
       "    }\n",
       "</style>\n",
       "<table border=\"1\" class=\"dataframe\">\n",
       "  <thead>\n",
       "    <tr style=\"text-align: right;\">\n",
       "      <th></th>\n",
       "      <th>User ID</th>\n",
       "      <th>Gender</th>\n",
       "      <th>Age</th>\n",
       "      <th>EstimatedSalary</th>\n",
       "      <th>Purchased</th>\n",
       "    </tr>\n",
       "  </thead>\n",
       "  <tbody>\n",
       "    <tr>\n",
       "      <th>7</th>\n",
       "      <td>15694829</td>\n",
       "      <td>Female</td>\n",
       "      <td>32</td>\n",
       "      <td>150000</td>\n",
       "      <td>1</td>\n",
       "    </tr>\n",
       "    <tr>\n",
       "      <th>16</th>\n",
       "      <td>15733883</td>\n",
       "      <td>Male</td>\n",
       "      <td>47</td>\n",
       "      <td>25000</td>\n",
       "      <td>1</td>\n",
       "    </tr>\n",
       "    <tr>\n",
       "      <th>17</th>\n",
       "      <td>15617482</td>\n",
       "      <td>Male</td>\n",
       "      <td>45</td>\n",
       "      <td>26000</td>\n",
       "      <td>1</td>\n",
       "    </tr>\n",
       "    <tr>\n",
       "      <th>18</th>\n",
       "      <td>15704583</td>\n",
       "      <td>Male</td>\n",
       "      <td>46</td>\n",
       "      <td>28000</td>\n",
       "      <td>1</td>\n",
       "    </tr>\n",
       "    <tr>\n",
       "      <th>19</th>\n",
       "      <td>15621083</td>\n",
       "      <td>Female</td>\n",
       "      <td>48</td>\n",
       "      <td>29000</td>\n",
       "      <td>1</td>\n",
       "    </tr>\n",
       "    <tr>\n",
       "      <th>...</th>\n",
       "      <td>...</td>\n",
       "      <td>...</td>\n",
       "      <td>...</td>\n",
       "      <td>...</td>\n",
       "      <td>...</td>\n",
       "    </tr>\n",
       "    <tr>\n",
       "      <th>393</th>\n",
       "      <td>15635893</td>\n",
       "      <td>Male</td>\n",
       "      <td>60</td>\n",
       "      <td>42000</td>\n",
       "      <td>1</td>\n",
       "    </tr>\n",
       "    <tr>\n",
       "      <th>395</th>\n",
       "      <td>15691863</td>\n",
       "      <td>Female</td>\n",
       "      <td>46</td>\n",
       "      <td>41000</td>\n",
       "      <td>1</td>\n",
       "    </tr>\n",
       "    <tr>\n",
       "      <th>396</th>\n",
       "      <td>15706071</td>\n",
       "      <td>Male</td>\n",
       "      <td>51</td>\n",
       "      <td>23000</td>\n",
       "      <td>1</td>\n",
       "    </tr>\n",
       "    <tr>\n",
       "      <th>397</th>\n",
       "      <td>15654296</td>\n",
       "      <td>Female</td>\n",
       "      <td>50</td>\n",
       "      <td>20000</td>\n",
       "      <td>1</td>\n",
       "    </tr>\n",
       "    <tr>\n",
       "      <th>399</th>\n",
       "      <td>15594041</td>\n",
       "      <td>Female</td>\n",
       "      <td>49</td>\n",
       "      <td>36000</td>\n",
       "      <td>1</td>\n",
       "    </tr>\n",
       "  </tbody>\n",
       "</table>\n",
       "<p>143 rows × 5 columns</p>\n",
       "</div>"
      ],
      "text/plain": [
       "      User ID  Gender  Age  EstimatedSalary  Purchased\n",
       "7    15694829  Female   32           150000          1\n",
       "16   15733883    Male   47            25000          1\n",
       "17   15617482    Male   45            26000          1\n",
       "18   15704583    Male   46            28000          1\n",
       "19   15621083  Female   48            29000          1\n",
       "..        ...     ...  ...              ...        ...\n",
       "393  15635893    Male   60            42000          1\n",
       "395  15691863  Female   46            41000          1\n",
       "396  15706071    Male   51            23000          1\n",
       "397  15654296  Female   50            20000          1\n",
       "399  15594041  Female   49            36000          1\n",
       "\n",
       "[143 rows x 5 columns]"
      ]
     },
     "execution_count": 51,
     "metadata": {},
     "output_type": "execute_result"
    }
   ],
   "source": [
    "# Now finding salaray of purchased\n",
    "buy = df.groupby('Purchased').get_group(1)\n",
    "buy"
   ]
  },
  {
   "cell_type": "code",
   "execution_count": 52,
   "id": "a0425541",
   "metadata": {},
   "outputs": [
    {
     "data": {
      "text/plain": [
       "20000"
      ]
     },
     "execution_count": 52,
     "metadata": {},
     "output_type": "execute_result"
    }
   ],
   "source": [
    "# Purchased whose minimum salary is\n",
    "buy.EstimatedSalary.min()"
   ]
  },
  {
   "cell_type": "code",
   "execution_count": 53,
   "id": "c51f76cf",
   "metadata": {},
   "outputs": [
    {
     "data": {
      "text/plain": [
       "27"
      ]
     },
     "execution_count": 53,
     "metadata": {},
     "output_type": "execute_result"
    }
   ],
   "source": [
    "# Purchased whose minimum age is\n",
    "buy.Age.min()"
   ]
  },
  {
   "cell_type": "markdown",
   "id": "cac4f608",
   "metadata": {},
   "source": [
    "#### Check the oulier"
   ]
  },
  {
   "cell_type": "code",
   "execution_count": 56,
   "id": "b89f8339",
   "metadata": {},
   "outputs": [
    {
     "data": {
      "text/plain": [
       "<AxesSubplot:xlabel='Age'>"
      ]
     },
     "execution_count": 56,
     "metadata": {},
     "output_type": "execute_result"
    },
    {
     "data": {
      "image/png": "[encoded data removed]",
      "text/plain": [
       "<Figure size 640x480 with 1 Axes>"
      ]
     },
     "metadata": {},
     "output_type": "display_data"
    }
   ],
   "source": [
    "sns.boxplot(data=df,x='Age')"
   ]
  },
  {
   "cell_type": "code",
   "execution_count": 57,
   "id": "87218a48",
   "metadata": {},
   "outputs": [
    {
     "data": {
      "text/plain": [
       "<AxesSubplot:xlabel='EstimatedSalary'>"
      ]
     },
     "execution_count": 57,
     "metadata": {},
     "output_type": "execute_result"
    },
    {
     "data": {
      "image/png": "[encoded data removed]",
      "text/plain": [
       "<Figure size 640x480 with 1 Axes>"
      ]
     },
     "metadata": {},
     "output_type": "display_data"
    }
   ],
   "source": [
    "sns.boxplot(data=df,x='EstimatedSalary')"
   ]
  },
  {
   "cell_type": "code",
   "execution_count": 61,
   "id": "e4add7e9",
   "metadata": {},
   "outputs": [
    {
     "data": {
      "text/html": [
       "<div>\n",
       "<style scoped>\n",
       "    .dataframe tbody tr th:only-of-type {\n",
       "        vertical-align: middle;\n",
       "    }\n",
       "\n",
       "    .dataframe tbody tr th {\n",
       "        vertical-align: top;\n",
       "    }\n",
       "\n",
       "    .dataframe thead th {\n",
       "        text-align: right;\n",
       "    }\n",
       "</style>\n",
       "<table border=\"1\" class=\"dataframe\">\n",
       "  <thead>\n",
       "    <tr style=\"text-align: right;\">\n",
       "      <th></th>\n",
       "      <th>User ID</th>\n",
       "      <th>Gender</th>\n",
       "      <th>Age</th>\n",
       "      <th>EstimatedSalary</th>\n",
       "      <th>Purchased</th>\n",
       "    </tr>\n",
       "  </thead>\n",
       "  <tbody>\n",
       "    <tr>\n",
       "      <th>0</th>\n",
       "      <td>15624510</td>\n",
       "      <td>Male</td>\n",
       "      <td>19</td>\n",
       "      <td>19000</td>\n",
       "      <td>0</td>\n",
       "    </tr>\n",
       "    <tr>\n",
       "      <th>1</th>\n",
       "      <td>15810944</td>\n",
       "      <td>Male</td>\n",
       "      <td>35</td>\n",
       "      <td>20000</td>\n",
       "      <td>0</td>\n",
       "    </tr>\n",
       "    <tr>\n",
       "      <th>2</th>\n",
       "      <td>15668575</td>\n",
       "      <td>Female</td>\n",
       "      <td>26</td>\n",
       "      <td>43000</td>\n",
       "      <td>0</td>\n",
       "    </tr>\n",
       "    <tr>\n",
       "      <th>3</th>\n",
       "      <td>15603246</td>\n",
       "      <td>Female</td>\n",
       "      <td>27</td>\n",
       "      <td>57000</td>\n",
       "      <td>0</td>\n",
       "    </tr>\n",
       "    <tr>\n",
       "      <th>4</th>\n",
       "      <td>15804002</td>\n",
       "      <td>Male</td>\n",
       "      <td>19</td>\n",
       "      <td>76000</td>\n",
       "      <td>0</td>\n",
       "    </tr>\n",
       "  </tbody>\n",
       "</table>\n",
       "</div>"
      ],
      "text/plain": [
       "    User ID  Gender  Age  EstimatedSalary  Purchased\n",
       "0  15624510    Male   19            19000          0\n",
       "1  15810944    Male   35            20000          0\n",
       "2  15668575  Female   26            43000          0\n",
       "3  15603246  Female   27            57000          0\n",
       "4  15804002    Male   19            76000          0"
      ]
     },
     "execution_count": 61,
     "metadata": {},
     "output_type": "execute_result"
    }
   ],
   "source": [
    "df.head()"
   ]
  },
  {
   "cell_type": "code",
   "execution_count": 62,
   "id": "c4b1cdae",
   "metadata": {},
   "outputs": [
    {
     "data": {
      "text/html": [
       "<div>\n",
       "<style scoped>\n",
       "    .dataframe tbody tr th:only-of-type {\n",
       "        vertical-align: middle;\n",
       "    }\n",
       "\n",
       "    .dataframe tbody tr th {\n",
       "        vertical-align: top;\n",
       "    }\n",
       "\n",
       "    .dataframe thead th {\n",
       "        text-align: right;\n",
       "    }\n",
       "</style>\n",
       "<table border=\"1\" class=\"dataframe\">\n",
       "  <thead>\n",
       "    <tr style=\"text-align: right;\">\n",
       "      <th></th>\n",
       "      <th>Gender</th>\n",
       "      <th>Age</th>\n",
       "      <th>EstimatedSalary</th>\n",
       "      <th>Purchased</th>\n",
       "    </tr>\n",
       "  </thead>\n",
       "  <tbody>\n",
       "    <tr>\n",
       "      <th>0</th>\n",
       "      <td>Male</td>\n",
       "      <td>19</td>\n",
       "      <td>19000</td>\n",
       "      <td>0</td>\n",
       "    </tr>\n",
       "    <tr>\n",
       "      <th>1</th>\n",
       "      <td>Male</td>\n",
       "      <td>35</td>\n",
       "      <td>20000</td>\n",
       "      <td>0</td>\n",
       "    </tr>\n",
       "    <tr>\n",
       "      <th>2</th>\n",
       "      <td>Female</td>\n",
       "      <td>26</td>\n",
       "      <td>43000</td>\n",
       "      <td>0</td>\n",
       "    </tr>\n",
       "  </tbody>\n",
       "</table>\n",
       "</div>"
      ],
      "text/plain": [
       "   Gender  Age  EstimatedSalary  Purchased\n",
       "0    Male   19            19000          0\n",
       "1    Male   35            20000          0\n",
       "2  Female   26            43000          0"
      ]
     },
     "execution_count": 62,
     "metadata": {},
     "output_type": "execute_result"
    }
   ],
   "source": [
    "df.drop(labels='User ID',axis=1,inplace=True)\n",
    "df[:3]"
   ]
  },
  {
   "cell_type": "markdown",
   "id": "5d015887",
   "metadata": {},
   "source": [
    "### Preprocessing"
   ]
  },
  {
   "cell_type": "code",
   "execution_count": 59,
   "id": "ea540fcb",
   "metadata": {},
   "outputs": [],
   "source": [
    "from sklearn.preprocessing import LabelEncoder"
   ]
  },
  {
   "cell_type": "code",
   "execution_count": 60,
   "id": "9b9cac10",
   "metadata": {},
   "outputs": [],
   "source": [
    "lb = LabelEncoder()"
   ]
  },
  {
   "cell_type": "code",
   "execution_count": 63,
   "id": "b7bf59f7",
   "metadata": {},
   "outputs": [
    {
     "data": {
      "text/plain": [
       "LabelEncoder()"
      ]
     },
     "execution_count": 63,
     "metadata": {},
     "output_type": "execute_result"
    }
   ],
   "source": [
    "lb.fit(df['Gender'])"
   ]
  },
  {
   "cell_type": "code",
   "execution_count": 64,
   "id": "ff916025",
   "metadata": {},
   "outputs": [
    {
     "data": {
      "text/plain": [
       "array([1, 1, 0, 0, 1, 1, 0, 0, 1, 0, 0, 0, 1, 1, 1, 1, 1, 1, 1, 0, 1, 0,\n",
       "       1, 0, 1, 1, 1, 0, 1, 1, 1, 0, 0, 0, 1, 1, 0, 1, 0, 0, 0, 0, 1, 1,\n",
       "       0, 1, 1, 0, 1, 0, 0, 0, 0, 0, 0, 0, 0, 1, 1, 0, 1, 1, 0, 1, 0, 1,\n",
       "       1, 0, 0, 0, 1, 0, 0, 0, 1, 1, 1, 0, 0, 0, 1, 1, 1, 1, 0, 0, 1, 0,\n",
       "       1, 1, 1, 0, 1, 0, 0, 0, 0, 1, 1, 0, 1, 1, 0, 0, 0, 1, 0, 1, 1, 0,\n",
       "       0, 0, 1, 1, 1, 1, 1, 1, 1, 1, 0, 1, 0, 1, 0, 0, 1, 1, 1, 0, 1, 1,\n",
       "       1, 0, 0, 1, 0, 1, 0, 1, 1, 0, 1, 1, 0, 0, 0, 0, 1, 1, 0, 1, 1, 0,\n",
       "       1, 0, 1, 1, 1, 0, 1, 1, 0, 1, 0, 0, 0, 0, 1, 0, 1, 1, 0, 0, 0, 0,\n",
       "       0, 1, 1, 0, 1, 0, 0, 1, 0, 1, 0, 0, 1, 1, 1, 0, 1, 1, 1, 1, 0, 0,\n",
       "       1, 1, 1, 1, 0, 0, 0, 0, 0, 0, 0, 0, 0, 1, 0, 1, 1, 0, 1, 1, 0, 1,\n",
       "       0, 1, 1, 1, 0, 1, 0, 1, 0, 0, 0, 1, 1, 1, 0, 1, 1, 0, 0, 0, 1, 1,\n",
       "       0, 0, 0, 0, 0, 0, 1, 0, 0, 1, 0, 0, 0, 0, 0, 1, 0, 0, 0, 1, 0, 0,\n",
       "       1, 0, 1, 1, 0, 1, 0, 0, 1, 1, 0, 1, 1, 1, 0, 0, 0, 1, 1, 0, 1, 0,\n",
       "       0, 0, 1, 0, 1, 1, 1, 1, 0, 0, 1, 0, 1, 1, 0, 1, 0, 1, 0, 1, 0, 0,\n",
       "       1, 0, 0, 1, 0, 0, 0, 0, 0, 1, 1, 1, 0, 0, 1, 0, 0, 0, 1, 0, 1, 0,\n",
       "       1, 0, 1, 1, 1, 0, 1, 1, 0, 1, 0, 1, 0, 0, 1, 0, 1, 0, 1, 1, 0, 1,\n",
       "       0, 0, 1, 1, 1, 0, 1, 1, 1, 0, 0, 0, 1, 0, 0, 1, 1, 0, 0, 1, 0, 1,\n",
       "       0, 0, 0, 0, 1, 0, 1, 1, 0, 1, 0, 1, 0, 1, 1, 0, 1, 1, 0, 1, 0, 0,\n",
       "       1, 0, 1, 0])"
      ]
     },
     "execution_count": 64,
     "metadata": {},
     "output_type": "execute_result"
    }
   ],
   "source": [
    "lb.transform(df.Gender)"
   ]
  },
  {
   "cell_type": "code",
   "execution_count": 65,
   "id": "d4303660",
   "metadata": {},
   "outputs": [
    {
     "data": {
      "text/plain": [
       "array(['Female', 'Male'], dtype=object)"
      ]
     },
     "execution_count": 65,
     "metadata": {},
     "output_type": "execute_result"
    }
   ],
   "source": [
    "lb.classes_"
   ]
  },
  {
   "cell_type": "code",
   "execution_count": 66,
   "id": "c3b30d70",
   "metadata": {},
   "outputs": [
    {
     "data": {
      "text/html": [
       "<div>\n",
       "<style scoped>\n",
       "    .dataframe tbody tr th:only-of-type {\n",
       "        vertical-align: middle;\n",
       "    }\n",
       "\n",
       "    .dataframe tbody tr th {\n",
       "        vertical-align: top;\n",
       "    }\n",
       "\n",
       "    .dataframe thead th {\n",
       "        text-align: right;\n",
       "    }\n",
       "</style>\n",
       "<table border=\"1\" class=\"dataframe\">\n",
       "  <thead>\n",
       "    <tr style=\"text-align: right;\">\n",
       "      <th></th>\n",
       "      <th>Gender</th>\n",
       "      <th>Age</th>\n",
       "      <th>EstimatedSalary</th>\n",
       "      <th>Purchased</th>\n",
       "    </tr>\n",
       "  </thead>\n",
       "  <tbody>\n",
       "    <tr>\n",
       "      <th>0</th>\n",
       "      <td>Male</td>\n",
       "      <td>19</td>\n",
       "      <td>19000</td>\n",
       "      <td>0</td>\n",
       "    </tr>\n",
       "    <tr>\n",
       "      <th>1</th>\n",
       "      <td>Male</td>\n",
       "      <td>35</td>\n",
       "      <td>20000</td>\n",
       "      <td>0</td>\n",
       "    </tr>\n",
       "    <tr>\n",
       "      <th>2</th>\n",
       "      <td>Female</td>\n",
       "      <td>26</td>\n",
       "      <td>43000</td>\n",
       "      <td>0</td>\n",
       "    </tr>\n",
       "    <tr>\n",
       "      <th>3</th>\n",
       "      <td>Female</td>\n",
       "      <td>27</td>\n",
       "      <td>57000</td>\n",
       "      <td>0</td>\n",
       "    </tr>\n",
       "    <tr>\n",
       "      <th>4</th>\n",
       "      <td>Male</td>\n",
       "      <td>19</td>\n",
       "      <td>76000</td>\n",
       "      <td>0</td>\n",
       "    </tr>\n",
       "  </tbody>\n",
       "</table>\n",
       "</div>"
      ],
      "text/plain": [
       "   Gender  Age  EstimatedSalary  Purchased\n",
       "0    Male   19            19000          0\n",
       "1    Male   35            20000          0\n",
       "2  Female   26            43000          0\n",
       "3  Female   27            57000          0\n",
       "4    Male   19            76000          0"
      ]
     },
     "execution_count": 66,
     "metadata": {},
     "output_type": "execute_result"
    }
   ],
   "source": [
    "df.head()"
   ]
  },
  {
   "cell_type": "code",
   "execution_count": 67,
   "id": "6e933d75",
   "metadata": {},
   "outputs": [],
   "source": [
    "df['Gender'] = lb.fit_transform(df['Gender'])"
   ]
  },
  {
   "cell_type": "code",
   "execution_count": 68,
   "id": "480cabf6",
   "metadata": {},
   "outputs": [
    {
     "data": {
      "text/html": [
       "<div>\n",
       "<style scoped>\n",
       "    .dataframe tbody tr th:only-of-type {\n",
       "        vertical-align: middle;\n",
       "    }\n",
       "\n",
       "    .dataframe tbody tr th {\n",
       "        vertical-align: top;\n",
       "    }\n",
       "\n",
       "    .dataframe thead th {\n",
       "        text-align: right;\n",
       "    }\n",
       "</style>\n",
       "<table border=\"1\" class=\"dataframe\">\n",
       "  <thead>\n",
       "    <tr style=\"text-align: right;\">\n",
       "      <th></th>\n",
       "      <th>Gender</th>\n",
       "      <th>Age</th>\n",
       "      <th>EstimatedSalary</th>\n",
       "      <th>Purchased</th>\n",
       "    </tr>\n",
       "  </thead>\n",
       "  <tbody>\n",
       "    <tr>\n",
       "      <th>0</th>\n",
       "      <td>1</td>\n",
       "      <td>19</td>\n",
       "      <td>19000</td>\n",
       "      <td>0</td>\n",
       "    </tr>\n",
       "    <tr>\n",
       "      <th>1</th>\n",
       "      <td>1</td>\n",
       "      <td>35</td>\n",
       "      <td>20000</td>\n",
       "      <td>0</td>\n",
       "    </tr>\n",
       "    <tr>\n",
       "      <th>2</th>\n",
       "      <td>0</td>\n",
       "      <td>26</td>\n",
       "      <td>43000</td>\n",
       "      <td>0</td>\n",
       "    </tr>\n",
       "    <tr>\n",
       "      <th>3</th>\n",
       "      <td>0</td>\n",
       "      <td>27</td>\n",
       "      <td>57000</td>\n",
       "      <td>0</td>\n",
       "    </tr>\n",
       "    <tr>\n",
       "      <th>4</th>\n",
       "      <td>1</td>\n",
       "      <td>19</td>\n",
       "      <td>76000</td>\n",
       "      <td>0</td>\n",
       "    </tr>\n",
       "  </tbody>\n",
       "</table>\n",
       "</div>"
      ],
      "text/plain": [
       "   Gender  Age  EstimatedSalary  Purchased\n",
       "0       1   19            19000          0\n",
       "1       1   35            20000          0\n",
       "2       0   26            43000          0\n",
       "3       0   27            57000          0\n",
       "4       1   19            76000          0"
      ]
     },
     "execution_count": 68,
     "metadata": {},
     "output_type": "execute_result"
    }
   ],
   "source": [
    "df.head()"
   ]
  },
  {
   "cell_type": "markdown",
   "id": "ce31d48d",
   "metadata": {},
   "source": [
    "### Splitting the dataset"
   ]
  },
  {
   "cell_type": "code",
   "execution_count": 69,
   "id": "064677b1",
   "metadata": {},
   "outputs": [
    {
     "data": {
      "text/html": [
       "<div>\n",
       "<style scoped>\n",
       "    .dataframe tbody tr th:only-of-type {\n",
       "        vertical-align: middle;\n",
       "    }\n",
       "\n",
       "    .dataframe tbody tr th {\n",
       "        vertical-align: top;\n",
       "    }\n",
       "\n",
       "    .dataframe thead th {\n",
       "        text-align: right;\n",
       "    }\n",
       "</style>\n",
       "<table border=\"1\" class=\"dataframe\">\n",
       "  <thead>\n",
       "    <tr style=\"text-align: right;\">\n",
       "      <th></th>\n",
       "      <th>Gender</th>\n",
       "      <th>Age</th>\n",
       "      <th>EstimatedSalary</th>\n",
       "    </tr>\n",
       "  </thead>\n",
       "  <tbody>\n",
       "    <tr>\n",
       "      <th>0</th>\n",
       "      <td>1</td>\n",
       "      <td>19</td>\n",
       "      <td>19000</td>\n",
       "    </tr>\n",
       "    <tr>\n",
       "      <th>1</th>\n",
       "      <td>1</td>\n",
       "      <td>35</td>\n",
       "      <td>20000</td>\n",
       "    </tr>\n",
       "    <tr>\n",
       "      <th>2</th>\n",
       "      <td>0</td>\n",
       "      <td>26</td>\n",
       "      <td>43000</td>\n",
       "    </tr>\n",
       "  </tbody>\n",
       "</table>\n",
       "</div>"
      ],
      "text/plain": [
       "   Gender  Age  EstimatedSalary\n",
       "0       1   19            19000\n",
       "1       1   35            20000\n",
       "2       0   26            43000"
      ]
     },
     "execution_count": 69,
     "metadata": {},
     "output_type": "execute_result"
    }
   ],
   "source": [
    "# Input\n",
    "X = df.loc[:,['Gender','Age','EstimatedSalary']]\n",
    "X[:3]"
   ]
  },
  {
   "cell_type": "code",
   "execution_count": 71,
   "id": "1d0c1169",
   "metadata": {},
   "outputs": [
    {
     "data": {
      "text/plain": [
       "0    0\n",
       "1    0\n",
       "2    0\n",
       "Name: Purchased, dtype: int64"
      ]
     },
     "execution_count": 71,
     "metadata": {},
     "output_type": "execute_result"
    }
   ],
   "source": [
    "# output \n",
    "y=df.Purchased\n",
    "y[:3]"
   ]
  },
  {
   "cell_type": "code",
   "execution_count": 72,
   "id": "7c25b0c7",
   "metadata": {},
   "outputs": [],
   "source": [
    "from sklearn.model_selection import train_test_split"
   ]
  },
  {
   "cell_type": "code",
   "execution_count": 73,
   "id": "fa92c614",
   "metadata": {},
   "outputs": [],
   "source": [
    "X_train,X_test,y_train,y_test = train_test_split(X,y,test_size=0.2)"
   ]
  },
  {
   "cell_type": "markdown",
   "id": "3b8dee7b",
   "metadata": {},
   "source": [
    "#### Training data"
   ]
  },
  {
   "cell_type": "code",
   "execution_count": 74,
   "id": "8e2a5de0",
   "metadata": {},
   "outputs": [
    {
     "data": {
      "text/plain": [
       "320"
      ]
     },
     "execution_count": 74,
     "metadata": {},
     "output_type": "execute_result"
    }
   ],
   "source": [
    "len(X_train)"
   ]
  },
  {
   "cell_type": "code",
   "execution_count": 75,
   "id": "085ff755",
   "metadata": {},
   "outputs": [
    {
     "data": {
      "text/plain": [
       "320"
      ]
     },
     "execution_count": 75,
     "metadata": {},
     "output_type": "execute_result"
    }
   ],
   "source": [
    "len(y_train)"
   ]
  },
  {
   "cell_type": "markdown",
   "id": "54336d7c",
   "metadata": {},
   "source": [
    "#### Testing data"
   ]
  },
  {
   "cell_type": "code",
   "execution_count": 76,
   "id": "0822daf6",
   "metadata": {},
   "outputs": [
    {
     "data": {
      "text/plain": [
       "80"
      ]
     },
     "execution_count": 76,
     "metadata": {},
     "output_type": "execute_result"
    }
   ],
   "source": [
    "len(X_test)"
   ]
  },
  {
   "cell_type": "code",
   "execution_count": 77,
   "id": "dbaea8bc",
   "metadata": {},
   "outputs": [
    {
     "data": {
      "text/plain": [
       "80"
      ]
     },
     "execution_count": 77,
     "metadata": {},
     "output_type": "execute_result"
    }
   ],
   "source": [
    "len(y_test)"
   ]
  },
  {
   "cell_type": "markdown",
   "id": "5be3d641",
   "metadata": {},
   "source": [
    "## Load the algorithm"
   ]
  },
  {
   "cell_type": "code",
   "execution_count": 78,
   "id": "77df15cf",
   "metadata": {},
   "outputs": [],
   "source": [
    "from sklearn.linear_model import LogisticRegression"
   ]
  },
  {
   "cell_type": "code",
   "execution_count": 79,
   "id": "409b20d5",
   "metadata": {},
   "outputs": [],
   "source": [
    "model = LogisticRegression()"
   ]
  },
  {
   "cell_type": "markdown",
   "id": "f7a2c10f",
   "metadata": {},
   "source": [
    "#### Training the data"
   ]
  },
  {
   "cell_type": "code",
   "execution_count": 80,
   "id": "ce5e7be2",
   "metadata": {},
   "outputs": [
    {
     "data": {
      "text/plain": [
       "LogisticRegression()"
      ]
     },
     "execution_count": 80,
     "metadata": {},
     "output_type": "execute_result"
    }
   ],
   "source": [
    "model.fit(X_train,y_train)"
   ]
  },
  {
   "cell_type": "markdown",
   "id": "71c65753",
   "metadata": {},
   "source": [
    "#### Check traing score"
   ]
  },
  {
   "cell_type": "code",
   "execution_count": 81,
   "id": "3e8cc6cd",
   "metadata": {},
   "outputs": [
    {
     "data": {
      "text/plain": [
       "62.81250000000001"
      ]
     },
     "execution_count": 81,
     "metadata": {},
     "output_type": "execute_result"
    }
   ],
   "source": [
    "model.score(X_train,y_train)*100"
   ]
  },
  {
   "cell_type": "markdown",
   "id": "25680050",
   "metadata": {},
   "source": [
    "#### So the training score is very less will go for Feature Scaling"
   ]
  },
  {
   "cell_type": "markdown",
   "id": "2c6080bb",
   "metadata": {},
   "source": [
    "## Feature Scaling"
   ]
  },
  {
   "cell_type": "code",
   "execution_count": 82,
   "id": "e6b03efe",
   "metadata": {},
   "outputs": [],
   "source": [
    "from sklearn.preprocessing import StandardScaler"
   ]
  },
  {
   "cell_type": "code",
   "execution_count": 83,
   "id": "b9b5f1eb",
   "metadata": {},
   "outputs": [],
   "source": [
    "scaler = StandardScaler()"
   ]
  },
  {
   "cell_type": "code",
   "execution_count": 84,
   "id": "44ece5fb",
   "metadata": {},
   "outputs": [
    {
     "data": {
      "text/plain": [
       "StandardScaler()"
      ]
     },
     "execution_count": 84,
     "metadata": {},
     "output_type": "execute_result"
    }
   ],
   "source": [
    "scaler.fit(X_train)"
   ]
  },
  {
   "cell_type": "code",
   "execution_count": 85,
   "id": "59382b40",
   "metadata": {},
   "outputs": [
    {
     "data": {
      "text/plain": [
       "array([[ 1.00000000e+00, -1.95360871e-01,  8.01557432e-01],\n",
       "       [ 1.00000000e+00,  7.76886078e-01, -1.37872182e+00],\n",
       "       [ 1.00000000e+00,  2.90762603e-01, -3.45957961e-01],\n",
       "       [ 1.00000000e+00, -3.89810261e-01,  1.26056359e+00],\n",
       "       [ 1.00000000e+00,  3.87987298e-01, -2.02518537e-01],\n",
       "       [-1.00000000e+00, -1.84818068e+00, -1.29265816e+00],\n",
       "       [-1.00000000e+00, -9.11481515e-04, -6.04148925e-01],\n",
       "       [ 1.00000000e+00, -4.87034956e-01, -8.04964119e-01],\n",
       "       [-1.00000000e+00,  1.45745894e+00,  9.44996857e-01],\n",
       "       [-1.00000000e+00, -1.16760782e+00, -1.03446720e+00],\n",
       "       [-1.00000000e+00,  9.63132134e-02,  5.56724265e-02],\n",
       "       [-1.00000000e+00, -9.11481515e-04, -4.60709501e-01],\n",
       "       [ 1.00000000e+00, -7.78709041e-01, -1.60822489e+00],\n",
       "       [-1.00000000e+00,  9.63132134e-02,  2.27799736e-01],\n",
       "       [ 1.00000000e+00,  1.06856016e+00, -1.73830652e-01],\n",
       "       [-1.00000000e+00,  1.36023425e+00,  1.92038494e+00],\n",
       "       [-1.00000000e+00,  9.71335467e-01, -1.03446720e+00],\n",
       "       [-1.00000000e+00, -1.07038313e+00, -1.14921874e+00],\n",
       "       [ 1.00000000e+00, -9.81361764e-02,  2.09251225e+00],\n",
       "       [-1.00000000e+00,  1.84635772e+00, -1.09184297e+00],\n",
       "       [-1.00000000e+00,  8.74110773e-01, -6.90212579e-01],\n",
       "       [ 1.00000000e+00, -1.07038313e+00,  5.14678584e-01],\n",
       "       [ 1.00000000e+00, -7.78709041e-01,  2.56487620e-01],\n",
       "       [-1.00000000e+00, -1.07038313e+00, -4.89397385e-01],\n",
       "       [-1.00000000e+00,  2.04080711e+00,  4.85990699e-01],\n",
       "       [ 1.00000000e+00,  7.76886078e-01, -3.45957961e-01],\n",
       "       [-1.00000000e+00, -9.73158430e-01, -9.77091428e-01],\n",
       "       [ 1.00000000e+00,  1.93537908e-01, -3.45957961e-01],\n",
       "       [ 1.00000000e+00, -9.81361764e-02,  1.13048196e-01],\n",
       "       [ 1.00000000e+00, -1.16760782e+00,  2.85175505e-01],\n",
       "       [-1.00000000e+00,  1.94358242e+00, -1.37872182e+00],\n",
       "       [ 1.00000000e+00, -8.75933736e-01,  2.56487620e-01],\n",
       "       [ 1.00000000e+00, -8.75933736e-01, -2.88582192e-01],\n",
       "       [-1.00000000e+00, -5.84259651e-01,  1.31793936e+00],\n",
       "       [ 1.00000000e+00, -9.73158430e-01, -1.12053085e+00],\n",
       "       [ 1.00000000e+00,  3.87987298e-01, -1.73830652e-01],\n",
       "       [ 1.00000000e+00,  1.06856016e+00,  5.14678584e-01],\n",
       "       [ 1.00000000e+00,  1.06856016e+00,  4.85990699e-01],\n",
       "       [-1.00000000e+00, -9.73158430e-01,  3.99927045e-01],\n",
       "       [ 1.00000000e+00, -1.75095599e+00,  4.28614929e-01],\n",
       "       [ 1.00000000e+00,  1.93537908e-01, -4.03333731e-01],\n",
       "       [-1.00000000e+00, -8.75933736e-01, -6.90212579e-01],\n",
       "       [-1.00000000e+00,  8.74110773e-01,  2.09251225e+00],\n",
       "       [-1.00000000e+00,  9.63132134e-02,  1.13048196e-01],\n",
       "       [ 1.00000000e+00,  2.04080711e+00,  1.69088186e+00],\n",
       "       [-1.00000000e+00, -1.36205721e+00,  5.14678584e-01],\n",
       "       [ 1.00000000e+00,  2.13803181e+00,  3.42551275e-01],\n",
       "       [ 1.00000000e+00,  1.55468364e+00, -3.03912280e-02],\n",
       "       [-1.00000000e+00,  1.55468364e+00, -1.29265816e+00],\n",
       "       [ 1.00000000e+00, -9.73158430e-01,  2.27799736e-01],\n",
       "       [ 1.00000000e+00,  3.87987298e-01,  5.56724265e-02],\n",
       "       [ 1.00000000e+00,  8.74110773e-01, -1.32134605e+00],\n",
       "       [ 1.00000000e+00, -9.81361764e-02,  2.69845417e-02],\n",
       "       [-1.00000000e+00, -1.95360871e-01, -2.31206422e-01],\n",
       "       [-1.00000000e+00,  7.76886078e-01,  7.15493778e-01],\n",
       "       [-1.00000000e+00,  9.63132134e-02, -1.70334316e-03],\n",
       "       [ 1.00000000e+00, -1.07038313e+00,  5.43366469e-01],\n",
       "       [-1.00000000e+00, -9.81361764e-02,  1.99111851e-01],\n",
       "       [ 1.00000000e+00, -9.81361764e-02, -5.46773155e-01],\n",
       "       [-1.00000000e+00, -9.11481515e-04,  1.20318782e+00],\n",
       "       [-1.00000000e+00, -3.89810261e-01,  2.69845417e-02],\n",
       "       [-1.00000000e+00, -9.11481515e-04,  1.17449994e+00],\n",
       "       [ 1.00000000e+00,  8.74110773e-01, -1.37872182e+00],\n",
       "       [-1.00000000e+00,  1.36023425e+00,  1.23187570e+00],\n",
       "       [ 1.00000000e+00, -1.26483252e+00, -1.40740970e+00],\n",
       "       [ 1.00000000e+00,  1.74913303e+00, -3.17270076e-01],\n",
       "       [-1.00000000e+00, -8.75933736e-01,  3.42551275e-01],\n",
       "       [-1.00000000e+00,  1.36023425e+00, -1.43609759e+00],\n",
       "       [-1.00000000e+00, -2.92585566e-01, -3.17270076e-01],\n",
       "       [-1.00000000e+00,  1.45745894e+00,  2.06382437e+00],\n",
       "       [-1.00000000e+00, -9.73158430e-01, -7.76276234e-01],\n",
       "       [ 1.00000000e+00,  2.90762603e-01,  2.27799736e-01],\n",
       "       [-1.00000000e+00,  2.90762603e-01, -3.17270076e-01],\n",
       "       [ 1.00000000e+00,  8.74110773e-01, -8.04964119e-01],\n",
       "       [ 1.00000000e+00,  9.71335467e-01, -1.09184297e+00],\n",
       "       [-1.00000000e+00, -1.07038313e+00, -4.03333731e-01],\n",
       "       [ 1.00000000e+00, -2.92585566e-01, -9.19715658e-01],\n",
       "       [ 1.00000000e+00,  1.93537908e-01,  1.99111851e-01],\n",
       "       [-1.00000000e+00, -2.92585566e-01, -1.37872182e+00],\n",
       "       [ 1.00000000e+00,  2.90762603e-01, -5.46773155e-01],\n",
       "       [-1.00000000e+00, -6.81484346e-01,  1.34662724e+00],\n",
       "       [ 1.00000000e+00, -3.89810261e-01,  1.17449994e+00],\n",
       "       [-1.00000000e+00, -2.92585566e-01,  7.44181663e-01],\n",
       "       [ 1.00000000e+00, -7.78709041e-01, -6.32836810e-01],\n",
       "       [-1.00000000e+00, -9.73158430e-01,  3.71239160e-01],\n",
       "       [ 1.00000000e+00, -9.11481515e-04, -3.45957961e-01],\n",
       "       [ 1.00000000e+00, -1.36205721e+00,  3.71239160e-01],\n",
       "       [ 1.00000000e+00,  3.87987298e-01,  2.56487620e-01],\n",
       "       [-1.00000000e+00, -9.73158430e-01, -3.45957961e-01],\n",
       "       [ 1.00000000e+00, -9.81361764e-02, -4.60709501e-01],\n",
       "       [-1.00000000e+00, -2.92585566e-01, -1.70334316e-03],\n",
       "       [ 1.00000000e+00, -1.26483252e+00, -1.09184297e+00],\n",
       "       [-1.00000000e+00,  1.84635772e+00,  1.46137878e+00],\n",
       "       [-1.00000000e+00, -1.95360871e-01,  1.57613032e+00],\n",
       "       [-1.00000000e+00, -1.16760782e+00, -1.55084912e+00],\n",
       "       [ 1.00000000e+00,  1.93537908e-01, -1.73830652e-01],\n",
       "       [-1.00000000e+00, -5.84259651e-01,  1.31793936e+00],\n",
       "       [-1.00000000e+00, -1.75095599e+00,  3.13863390e-01],\n",
       "       [ 1.00000000e+00,  9.71335467e-01,  2.00644860e+00],\n",
       "       [ 1.00000000e+00, -1.16760782e+00, -1.57953701e+00],\n",
       "       [-1.00000000e+00,  4.85211993e-01,  1.17449994e+00],\n",
       "       [ 1.00000000e+00,  7.76886078e-01,  1.31793936e+00],\n",
       "       [-1.00000000e+00, -1.36205721e+00, -4.60709501e-01],\n",
       "       [ 1.00000000e+00, -1.65373129e+00,  4.85990699e-01],\n",
       "       [ 1.00000000e+00, -1.95360871e-01, -3.17270076e-01],\n",
       "       [-1.00000000e+00,  2.90762603e-01,  2.56487620e-01],\n",
       "       [ 1.00000000e+00,  2.90762603e-01, -5.46773155e-01],\n",
       "       [ 1.00000000e+00, -1.26483252e+00,  2.56487620e-01],\n",
       "       [-1.00000000e+00, -5.84259651e-01,  2.26463956e+00],\n",
       "       [ 1.00000000e+00, -1.16760782e+00,  2.56487620e-01],\n",
       "       [ 1.00000000e+00,  9.63132134e-02, -8.33652004e-01],\n",
       "       [-1.00000000e+00, -1.45928190e+00,  3.13863390e-01],\n",
       "       [-1.00000000e+00, -9.81361764e-02,  2.56487620e-01],\n",
       "       [ 1.00000000e+00,  6.79661383e-01, -1.12053085e+00],\n",
       "       [-1.00000000e+00, -1.95360871e-01, -4.89397385e-01],\n",
       "       [ 1.00000000e+00, -2.92585566e-01,  2.69845417e-02],\n",
       "       [-1.00000000e+00,  5.82436688e-01, -9.19715658e-01],\n",
       "       [-1.00000000e+00, -4.87034956e-01, -5.75461040e-01],\n",
       "       [ 1.00000000e+00,  1.74913303e+00,  1.77694552e+00],\n",
       "       [-1.00000000e+00, -8.75933736e-01,  3.42551275e-01],\n",
       "       [-1.00000000e+00,  7.76886078e-01, -1.12053085e+00],\n",
       "       [-1.00000000e+00,  4.85211993e-01,  1.77694552e+00],\n",
       "       [ 1.00000000e+00, -2.92585566e-01, -1.46478547e+00],\n",
       "       [ 1.00000000e+00, -2.92585566e-01, -3.74645846e-01],\n",
       "       [-1.00000000e+00,  6.79661383e-01,  1.71956975e+00],\n",
       "       [-1.00000000e+00, -4.87034956e-01, -1.23528239e+00],\n",
       "       [ 1.00000000e+00, -9.81361764e-02,  8.43603114e-02],\n",
       "       [-1.00000000e+00,  1.55468364e+00,  9.44996857e-01],\n",
       "       [ 1.00000000e+00, -5.84259651e-01, -1.52216124e+00],\n",
       "       [ 1.00000000e+00,  3.87987298e-01, -1.73830652e-01],\n",
       "       [-1.00000000e+00, -1.16760782e+00,  1.34662724e+00],\n",
       "       [-1.00000000e+00,  5.82436688e-01,  1.94907283e+00],\n",
       "       [ 1.00000000e+00,  1.93537908e-01,  1.03106051e+00],\n",
       "       [ 1.00000000e+00, -2.92585566e-01, -1.40740970e+00],\n",
       "       [-1.00000000e+00,  1.16578486e+00, -7.76276234e-01],\n",
       "       [-1.00000000e+00,  3.87987298e-01, -3.03912280e-02],\n",
       "       [-1.00000000e+00, -7.78709041e-01, -2.59894307e-01],\n",
       "       [-1.00000000e+00, -1.94540538e+00, -7.76276234e-01],\n",
       "       [-1.00000000e+00, -4.87034956e-01, -3.17270076e-01],\n",
       "       [-1.00000000e+00, -9.11481515e-04,  2.56487620e-01],\n",
       "       [-1.00000000e+00,  1.94358242e+00,  8.58933202e-01],\n",
       "       [-1.00000000e+00, -1.95360871e-01,  1.13048196e-01],\n",
       "       [-1.00000000e+00,  1.26300955e+00,  2.14988802e+00],\n",
       "       [-1.00000000e+00,  1.06856016e+00,  2.00644860e+00],\n",
       "       [-1.00000000e+00,  8.74110773e-01,  1.20318782e+00],\n",
       "       [-1.00000000e+00, -8.75933736e-01, -1.23528239e+00],\n",
       "       [ 1.00000000e+00, -8.75933736e-01, -8.04964119e-01],\n",
       "       [-1.00000000e+00,  8.74110773e-01, -1.17790662e+00],\n",
       "       [ 1.00000000e+00,  9.63132134e-02,  1.00237263e+00],\n",
       "       [ 1.00000000e+00,  9.71335467e-01,  8.43603114e-02],\n",
       "       [ 1.00000000e+00,  3.87987298e-01,  9.44996857e-01],\n",
       "       [-1.00000000e+00, -1.94540538e+00,  4.28614929e-01],\n",
       "       [ 1.00000000e+00, -1.36205721e+00, -4.60709501e-01],\n",
       "       [ 1.00000000e+00,  3.87987298e-01,  2.23595167e+00],\n",
       "       [ 1.00000000e+00, -1.95360871e-01, -1.09184297e+00],\n",
       "       [ 1.00000000e+00, -1.95360871e-01,  2.09251225e+00],\n",
       "       [-1.00000000e+00,  9.63132134e-02, -2.88582192e-01],\n",
       "       [-1.00000000e+00,  1.36023425e+00,  5.43366469e-01],\n",
       "       [ 1.00000000e+00, -1.95360871e-01,  1.54744244e+00],\n",
       "       [ 1.00000000e+00, -5.84259651e-01,  1.40400301e+00],\n",
       "       [-1.00000000e+00,  1.36023425e+00, -9.48403543e-01],\n",
       "       [ 1.00000000e+00, -1.16760782e+00, -1.12053085e+00],\n",
       "       [ 1.00000000e+00, -1.65373129e+00,  2.69845417e-02],\n",
       "       [-1.00000000e+00, -9.81361764e-02, -2.59894307e-01],\n",
       "       [ 1.00000000e+00, -9.11481515e-04, -1.70334316e-03],\n",
       "       [ 1.00000000e+00,  1.93537908e-01, -6.90212579e-01],\n",
       "       [ 1.00000000e+00, -6.81484346e-01,  8.43603114e-02],\n",
       "       [ 1.00000000e+00,  8.74110773e-01,  9.73684741e-01],\n",
       "       [-1.00000000e+00, -1.94540538e+00, -8.77669977e-02],\n",
       "       [-1.00000000e+00, -6.81484346e-01, -1.60822489e+00],\n",
       "       [ 1.00000000e+00, -8.75933736e-01,  2.20726379e+00],\n",
       "       [-1.00000000e+00,  1.26300955e+00,  1.80563340e+00],\n",
       "       [-1.00000000e+00,  1.93537908e-01,  2.69845417e-02],\n",
       "       [ 1.00000000e+00,  1.65190833e+00, -9.19715658e-01],\n",
       "       [-1.00000000e+00, -4.87034956e-01, -5.90791128e-02],\n",
       "       [ 1.00000000e+00,  9.63132134e-02,  1.46137878e+00],\n",
       "       [ 1.00000000e+00,  2.13803181e+00, -8.33652004e-01],\n",
       "       [ 1.00000000e+00, -2.92585566e-01,  5.56724265e-02],\n",
       "       [ 1.00000000e+00,  2.13803181e+00, -1.06315508e+00],\n",
       "       [-1.00000000e+00, -4.87034956e-01, -8.62339888e-01],\n",
       "       [-1.00000000e+00, -1.07038313e+00, -1.55084912e+00],\n",
       "       [-1.00000000e+00,  1.06856016e+00, -9.19715658e-01],\n",
       "       [-1.00000000e+00, -9.11481515e-04, -6.04148925e-01],\n",
       "       [-1.00000000e+00,  8.74110773e-01,  1.03106051e+00],\n",
       "       [ 1.00000000e+00, -1.26483252e+00,  5.43366469e-01],\n",
       "       [-1.00000000e+00, -9.81361764e-02,  2.14988802e+00],\n",
       "       [ 1.00000000e+00,  1.93537908e-01, -1.70334316e-03],\n",
       "       [-1.00000000e+00,  3.87987298e-01,  2.56487620e-01],\n",
       "       [ 1.00000000e+00, -1.95360871e-01,  1.34662724e+00],\n",
       "       [-1.00000000e+00,  1.16578486e+00,  4.85990699e-01],\n",
       "       [ 1.00000000e+00, -9.11481515e-04, -2.88582192e-01],\n",
       "       [ 1.00000000e+00, -1.07038313e+00, -3.74645846e-01],\n",
       "       [ 1.00000000e+00, -2.92585566e-01,  1.05974840e+00],\n",
       "       [-1.00000000e+00, -9.81361764e-02, -4.03333731e-01],\n",
       "       [ 1.00000000e+00, -2.92585566e-01, -5.18085270e-01],\n",
       "       [-1.00000000e+00, -1.07038313e+00,  1.89169706e+00],\n",
       "       [-1.00000000e+00,  1.16578486e+00, -1.46478547e+00],\n",
       "       [ 1.00000000e+00,  1.45745894e+00,  2.69845417e-02],\n",
       "       [-1.00000000e+00,  9.71335467e-01,  1.92038494e+00],\n",
       "       [-1.00000000e+00, -1.36205721e+00, -1.26397028e+00],\n",
       "       [-1.00000000e+00, -1.75095599e+00, -1.37872182e+00],\n",
       "       [-1.00000000e+00,  3.87987298e-01, -5.18085270e-01],\n",
       "       [ 1.00000000e+00,  1.93537908e-01,  1.13048196e-01],\n",
       "       [-1.00000000e+00, -4.87034956e-01,  2.23595167e+00],\n",
       "       [ 1.00000000e+00, -2.92585566e-01,  1.13048196e-01],\n",
       "       [ 1.00000000e+00, -2.92585566e-01, -4.60709501e-01],\n",
       "       [ 1.00000000e+00, -6.81484346e-01, -3.74645846e-01],\n",
       "       [-1.00000000e+00,  2.90762603e-01, -5.75461040e-01],\n",
       "       [ 1.00000000e+00, -1.55650660e+00,  2.85175505e-01],\n",
       "       [ 1.00000000e+00, -1.16760782e+00, -1.60822489e+00],\n",
       "       [ 1.00000000e+00, -6.81484346e-01,  1.41736081e-01],\n",
       "       [-1.00000000e+00,  3.87987298e-01,  1.05974840e+00],\n",
       "       [ 1.00000000e+00,  7.76886078e-01, -1.23528239e+00],\n",
       "       [-1.00000000e+00, -1.16760782e+00,  2.56487620e-01],\n",
       "       [-1.00000000e+00, -2.92585566e-01,  2.69845417e-02],\n",
       "       [ 1.00000000e+00, -2.92585566e-01, -6.04148925e-01],\n",
       "       [ 1.00000000e+00, -1.16760782e+00, -1.17790662e+00],\n",
       "       [-1.00000000e+00, -2.92585566e-01, -6.90212579e-01],\n",
       "       [-1.00000000e+00,  1.55468364e+00,  1.05974840e+00],\n",
       "       [-1.00000000e+00, -7.78709041e-01,  2.27799736e-01],\n",
       "       [ 1.00000000e+00, -2.92585566e-01,  5.72054354e-01],\n",
       "       [ 1.00000000e+00,  1.26300955e+00, -1.37872182e+00],\n",
       "       [-1.00000000e+00,  7.76886078e-01, -1.40740970e+00],\n",
       "       [-1.00000000e+00, -1.84818068e+00, -1.43609759e+00],\n",
       "       [ 1.00000000e+00, -9.11481515e-04, -5.75461040e-01],\n",
       "       [-1.00000000e+00,  1.06856016e+00, -1.00577931e+00],\n",
       "       [-1.00000000e+00,  2.90762603e-01,  2.69845417e-02],\n",
       "       [ 1.00000000e+00, -9.73158430e-01, -3.45957961e-01],\n",
       "       [ 1.00000000e+00, -1.16760782e+00,  4.28614929e-01],\n",
       "       [ 1.00000000e+00, -1.07038313e+00, -1.46478547e+00],\n",
       "       [ 1.00000000e+00,  2.04080711e+00,  2.06382437e+00],\n",
       "       [-1.00000000e+00,  1.93537908e-01, -3.17270076e-01],\n",
       "       [-1.00000000e+00,  1.45745894e+00,  3.13863390e-01],\n",
       "       [ 1.00000000e+00, -1.84818068e+00, -3.03912280e-02],\n",
       "       [ 1.00000000e+00,  1.93537908e-01, -4.03333731e-01],\n",
       "       [-1.00000000e+00,  1.93537908e-01,  2.03513648e+00],\n",
       "       [ 1.00000000e+00,  1.93537908e-01, -4.03333731e-01],\n",
       "       [ 1.00000000e+00, -2.92585566e-01,  2.27799736e-01],\n",
       "       [ 1.00000000e+00, -1.36205721e+00, -3.74645846e-01],\n",
       "       [ 1.00000000e+00,  9.63132134e-02, -1.70334316e-03],\n",
       "       [ 1.00000000e+00, -7.78709041e-01,  4.57302814e-01],\n",
       "       [ 1.00000000e+00,  2.90762603e-01,  4.57302814e-01],\n",
       "       [ 1.00000000e+00, -8.75933736e-01, -8.04964119e-01],\n",
       "       [-1.00000000e+00, -1.55650660e+00, -1.26397028e+00],\n",
       "       [-1.00000000e+00, -2.92585566e-01, -1.73830652e-01],\n",
       "       [-1.00000000e+00,  2.90762603e-01, -1.70334316e-03],\n",
       "       [-1.00000000e+00,  9.71335467e-01,  1.80563340e+00],\n",
       "       [-1.00000000e+00,  6.79661383e-01, -1.40740970e+00],\n",
       "       [ 1.00000000e+00, -1.07038313e+00,  4.85990699e-01],\n",
       "       [ 1.00000000e+00, -2.92585566e-01, -1.26397028e+00],\n",
       "       [ 1.00000000e+00, -1.36205721e+00, -1.49347335e+00],\n",
       "       [-1.00000000e+00,  1.74913303e+00,  9.44996857e-01],\n",
       "       [-1.00000000e+00, -9.81361764e-02, -1.70334316e-03],\n",
       "       [ 1.00000000e+00, -9.81361764e-02,  2.27799736e-01],\n",
       "       [ 1.00000000e+00, -1.45928190e+00, -2.31206422e-01],\n",
       "       [-1.00000000e+00,  1.94358242e+00,  6.86805893e-01],\n",
       "       [-1.00000000e+00,  2.90762603e-01, -2.31206422e-01],\n",
       "       [ 1.00000000e+00, -9.81361764e-02,  1.70423966e-01],\n",
       "       [ 1.00000000e+00,  1.06856016e+00, -1.23528239e+00],\n",
       "       [-1.00000000e+00, -2.92585566e-01, -1.32134605e+00],\n",
       "       [ 1.00000000e+00,  2.13803181e+00, -8.33652004e-01],\n",
       "       [ 1.00000000e+00,  1.36023425e+00,  2.26463956e+00],\n",
       "       [ 1.00000000e+00, -9.73158430e-01,  1.49006667e+00],\n",
       "       [ 1.00000000e+00, -5.84259651e-01,  8.30245317e-01],\n",
       "       [ 1.00000000e+00,  7.76886078e-01,  4.85990699e-01],\n",
       "       [-1.00000000e+00, -2.92585566e-01,  2.17857590e+00],\n",
       "       [-1.00000000e+00, -3.89810261e-01, -8.04964119e-01],\n",
       "       [-1.00000000e+00, -4.87034956e-01,  1.20318782e+00],\n",
       "       [-1.00000000e+00,  1.65190833e+00,  1.54744244e+00],\n",
       "       [-1.00000000e+00,  9.71335467e-01, -1.20659451e+00],\n",
       "       [ 1.00000000e+00, -1.95360871e-01, -5.46773155e-01],\n",
       "       [-1.00000000e+00,  1.94358242e+00, -9.48403543e-01],\n",
       "       [-1.00000000e+00,  9.71335467e-01,  7.15493778e-01],\n",
       "       [ 1.00000000e+00, -2.92585566e-01, -2.88582192e-01],\n",
       "       [-1.00000000e+00, -9.81361764e-02,  6.29430123e-01],\n",
       "       [-1.00000000e+00, -9.73158430e-01,  4.57302814e-01],\n",
       "       [-1.00000000e+00,  1.45745894e+00, -1.06315508e+00],\n",
       "       [-1.00000000e+00, -9.81361764e-02,  1.89169706e+00],\n",
       "       [-1.00000000e+00,  2.04080711e+00, -1.20659451e+00],\n",
       "       [ 1.00000000e+00,  9.71335467e-01, -8.62339888e-01],\n",
       "       [-1.00000000e+00, -2.92585566e-01, -7.76276234e-01],\n",
       "       [-1.00000000e+00,  9.63132134e-02, -3.45957961e-01],\n",
       "       [ 1.00000000e+00, -7.78709041e-01,  5.14678584e-01],\n",
       "       [-1.00000000e+00,  2.13803181e+00, -7.18900464e-01],\n",
       "       [ 1.00000000e+00, -1.94540538e+00, -5.46773155e-01],\n",
       "       [ 1.00000000e+00,  2.90762603e-01,  2.69845417e-02],\n",
       "       [ 1.00000000e+00, -2.92585566e-01, -9.48403543e-01],\n",
       "       [ 1.00000000e+00, -6.81484346e-01, -1.45142767e-01],\n",
       "       [-1.00000000e+00,  1.16578486e+00, -1.00577931e+00],\n",
       "       [-1.00000000e+00, -5.84259651e-01,  1.83432129e+00],\n",
       "       [ 1.00000000e+00,  8.74110773e-01, -1.46478547e+00],\n",
       "       [ 1.00000000e+00, -1.36205721e+00, -1.37872182e+00],\n",
       "       [ 1.00000000e+00,  7.76886078e-01,  2.27799736e-01],\n",
       "       [-1.00000000e+00, -1.55650660e+00, -4.60709501e-01],\n",
       "       [-1.00000000e+00, -1.65373129e+00, -8.77669977e-02],\n",
       "       [-1.00000000e+00, -2.92585566e-01, -4.03333731e-01],\n",
       "       [-1.00000000e+00,  7.76886078e-01,  8.43603114e-02],\n",
       "       [ 1.00000000e+00,  9.63132134e-02,  1.70423966e-01],\n",
       "       [ 1.00000000e+00, -4.87034956e-01, -1.14921874e+00],\n",
       "       [ 1.00000000e+00, -6.81484346e-01, -1.52216124e+00],\n",
       "       [ 1.00000000e+00, -1.26483252e+00,  2.27799736e-01],\n",
       "       [ 1.00000000e+00, -9.11481515e-04, -2.88582192e-01],\n",
       "       [-1.00000000e+00,  9.71335467e-01,  1.37531513e+00],\n",
       "       [-1.00000000e+00,  3.87987298e-01,  5.43366469e-01],\n",
       "       [ 1.00000000e+00, -9.11481515e-04, -1.70334316e-03],\n",
       "       [-1.00000000e+00,  9.71335467e-01,  1.71956975e+00],\n",
       "       [ 1.00000000e+00, -8.75933736e-01,  1.13048196e-01],\n",
       "       [ 1.00000000e+00,  1.84635772e+00, -3.17270076e-01],\n",
       "       [-1.00000000e+00, -1.45928190e+00, -1.23528239e+00],\n",
       "       [ 1.00000000e+00,  6.79661383e-01, -1.40740970e+00],\n",
       "       [-1.00000000e+00, -1.75095599e+00, -1.00577931e+00],\n",
       "       [ 1.00000000e+00,  2.90762603e-01, -7.47588349e-01],\n",
       "       [ 1.00000000e+00, -1.55650660e+00, -1.52216124e+00],\n",
       "       [ 1.00000000e+00,  9.63132134e-02,  1.80563340e+00],\n",
       "       [-1.00000000e+00,  2.04080711e+00,  1.41736081e-01],\n",
       "       [-1.00000000e+00, -1.16760782e+00,  2.69845417e-02],\n",
       "       [ 1.00000000e+00, -1.26483252e+00,  4.57302814e-01],\n",
       "       [-1.00000000e+00,  2.04080711e+00, -8.33652004e-01],\n",
       "       [-1.00000000e+00,  2.13803181e+00,  1.05974840e+00],\n",
       "       [-1.00000000e+00,  7.76886078e-01, -8.62339888e-01]])"
      ]
     },
     "execution_count": 85,
     "metadata": {},
     "output_type": "execute_result"
    }
   ],
   "source": [
    "scaler.transform(X_train)"
   ]
  },
  {
   "cell_type": "code",
   "execution_count": 86,
   "id": "cd62a1b5",
   "metadata": {},
   "outputs": [],
   "source": [
    "X_train_ = scaler.transform(X_train)\n",
    "X_test_ = scaler.transform(X_test)"
   ]
  },
  {
   "cell_type": "code",
   "execution_count": 88,
   "id": "e7b5684c",
   "metadata": {},
   "outputs": [],
   "source": [
    "lr = LogisticRegression()"
   ]
  },
  {
   "cell_type": "code",
   "execution_count": 89,
   "id": "ecff1dac",
   "metadata": {},
   "outputs": [
    {
     "data": {
      "text/plain": [
       "85.625"
      ]
     },
     "execution_count": 89,
     "metadata": {},
     "output_type": "execute_result"
    }
   ],
   "source": [
    "lr.fit(X_train_,y_train)\n",
    "lr.score(X_train_,y_train)*100"
   ]
  },
  {
   "cell_type": "markdown",
   "id": "bcba53b5",
   "metadata": {},
   "source": [
    "### The training score is improved compared to previous so we can proceed further."
   ]
  },
  {
   "cell_type": "code",
   "execution_count": 90,
   "id": "aab1fd7c",
   "metadata": {},
   "outputs": [
    {
     "data": {
      "text/plain": [
       "83.75"
      ]
     },
     "execution_count": 90,
     "metadata": {},
     "output_type": "execute_result"
    }
   ],
   "source": [
    "# Testing score\n",
    "lr.score(X_test_,y_test)*100"
   ]
  },
  {
   "cell_type": "markdown",
   "id": "10f16a9a",
   "metadata": {},
   "source": [
    "### Testing Phase"
   ]
  },
  {
   "cell_type": "code",
   "execution_count": 91,
   "id": "748cd4e8",
   "metadata": {},
   "outputs": [
    {
     "data": {
      "text/plain": [
       "array([1, 0, 0, 0, 0, 0, 1, 1, 0, 1, 0, 1, 0, 0, 0, 1, 1, 0, 0, 0, 1, 0,\n",
       "       0, 0, 0, 0, 1, 0, 0, 1, 0, 1, 0, 0, 0, 0, 0, 0, 0, 0, 1, 0, 1, 1,\n",
       "       1, 0, 0, 0, 1, 1, 0, 0, 0, 0, 0, 0, 0, 0, 1, 0, 0, 0, 0, 0, 0, 0,\n",
       "       0, 1, 0, 0, 1, 0, 0, 0, 0, 0, 0, 0, 0, 1], dtype=int64)"
      ]
     },
     "execution_count": 91,
     "metadata": {},
     "output_type": "execute_result"
    }
   ],
   "source": [
    "# Predicted result\n",
    "y_pred = lr.predict(X_test_)\n",
    "y_pred"
   ]
  },
  {
   "cell_type": "code",
   "execution_count": 92,
   "id": "53b740a6",
   "metadata": {},
   "outputs": [
    {
     "data": {
      "text/plain": [
       "202    1\n",
       "144    0\n",
       "140    0\n",
       "153    0\n",
       "17     1\n",
       "      ..\n",
       "162    0\n",
       "305    0\n",
       "327    0\n",
       "260    0\n",
       "343    1\n",
       "Name: Purchased, Length: 80, dtype: int64"
      ]
     },
     "execution_count": 92,
     "metadata": {},
     "output_type": "execute_result"
    }
   ],
   "source": [
    "# Actual result\n",
    "y_test"
   ]
  },
  {
   "cell_type": "markdown",
   "id": "fd4be654",
   "metadata": {},
   "source": [
    "### As clasification problem we need to use confusion matrix and other score"
   ]
  },
  {
   "cell_type": "code",
   "execution_count": 93,
   "id": "b55cfcb6",
   "metadata": {},
   "outputs": [],
   "source": [
    "from sklearn.metrics import confusion_matrix"
   ]
  },
  {
   "cell_type": "code",
   "execution_count": 94,
   "id": "e7faa54a",
   "metadata": {},
   "outputs": [],
   "source": [
    "cm = confusion_matrix(y_test,y_pred)"
   ]
  },
  {
   "cell_type": "code",
   "execution_count": 95,
   "id": "5845facb",
   "metadata": {},
   "outputs": [
    {
     "data": {
      "text/plain": [
       "array([[51,  5],\n",
       "       [ 8, 16]], dtype=int64)"
      ]
     },
     "execution_count": 95,
     "metadata": {},
     "output_type": "execute_result"
    }
   ],
   "source": [
    "cm"
   ]
  },
  {
   "cell_type": "code",
   "execution_count": 96,
   "id": "99db85da",
   "metadata": {},
   "outputs": [
    {
     "data": {
      "text/plain": [
       "Text(21.78333333333333, 0.5, 'Actual output')"
      ]
     },
     "execution_count": 96,
     "metadata": {},
     "output_type": "execute_result"
    },
    {
     "data": {
      "image/png": "[encoded data removed]",
      "text/plain": [
       "<Figure size 640x480 with 2 Axes>"
      ]
     },
     "metadata": {},
     "output_type": "display_data"
    }
   ],
   "source": [
    "sns.heatmap(data=cm,cmap='Reds',annot =True)\n",
    "plt.title('Confusion matrix')\n",
    "plt.xlabel('Predicted output')\n",
    "plt.ylabel('Actual output')"
   ]
  },
  {
   "cell_type": "code",
   "execution_count": 97,
   "id": "e6f2afab",
   "metadata": {},
   "outputs": [],
   "source": [
    "from sklearn.metrics import precision_score,recall_score,r2_score,f1_score,accuracy_score,classification_report"
   ]
  },
  {
   "cell_type": "code",
   "execution_count": 98,
   "id": "70616860",
   "metadata": {},
   "outputs": [
    {
     "name": "stdout",
     "output_type": "stream",
     "text": [
      "The precision score is 76.19047619047619\n"
     ]
    }
   ],
   "source": [
    "# Precision\n",
    "print('The precision score is',precision_score(y_test,y_pred)*100)"
   ]
  },
  {
   "cell_type": "code",
   "execution_count": 99,
   "id": "fc3b0b6c",
   "metadata": {},
   "outputs": [
    {
     "name": "stdout",
     "output_type": "stream",
     "text": [
      "The recall score is 66.66666666666666\n"
     ]
    }
   ],
   "source": [
    "# recall\n",
    "print('The recall score is',recall_score(y_test,y_pred)*100)"
   ]
  },
  {
   "cell_type": "code",
   "execution_count": 100,
   "id": "d02b02bf",
   "metadata": {},
   "outputs": [
    {
     "name": "stdout",
     "output_type": "stream",
     "text": [
      "The r2 score is 22.619047619047606\n"
     ]
    }
   ],
   "source": [
    "# r2_score\n",
    "print('The r2 score is',r2_score(y_test,y_pred)*100)"
   ]
  },
  {
   "cell_type": "code",
   "execution_count": 101,
   "id": "290fcb13",
   "metadata": {},
   "outputs": [
    {
     "name": "stdout",
     "output_type": "stream",
     "text": [
      "The f1 score is 71.11111111111111\n"
     ]
    }
   ],
   "source": [
    "# f1_score\n",
    "print('The f1 score is',f1_score(y_test,y_pred)*100)"
   ]
  },
  {
   "cell_type": "code",
   "execution_count": 102,
   "id": "8a599791",
   "metadata": {},
   "outputs": [
    {
     "name": "stdout",
     "output_type": "stream",
     "text": [
      "The accuracy score is 83.75\n"
     ]
    }
   ],
   "source": [
    "# Accuracy_score\n",
    "print('The accuracy score is',accuracy_score(y_test,y_pred)*100)"
   ]
  },
  {
   "cell_type": "code",
   "execution_count": 103,
   "id": "6583c88c",
   "metadata": {},
   "outputs": [
    {
     "name": "stdout",
     "output_type": "stream",
     "text": [
      "              precision    recall  f1-score   support\n",
      "\n",
      "           0       0.86      0.91      0.89        56\n",
      "           1       0.76      0.67      0.71        24\n",
      "\n",
      "    accuracy                           0.84        80\n",
      "   macro avg       0.81      0.79      0.80        80\n",
      "weighted avg       0.83      0.84      0.83        80\n",
      "\n"
     ]
    }
   ],
   "source": [
    "# classification report\n",
    "print(classification_report(y_test,y_pred))"
   ]
  },
  {
   "cell_type": "markdown",
   "id": "77301983",
   "metadata": {},
   "source": [
    "#### Not purchased"
   ]
  },
  {
   "cell_type": "code",
   "execution_count": 104,
   "id": "0a5281c8",
   "metadata": {},
   "outputs": [
    {
     "data": {
      "text/plain": [
       "56"
      ]
     },
     "execution_count": 104,
     "metadata": {},
     "output_type": "execute_result"
    }
   ],
   "source": [
    "# Actual\n",
    "sum(y_test == 0)"
   ]
  },
  {
   "cell_type": "code",
   "execution_count": 105,
   "id": "a28a7acc",
   "metadata": {},
   "outputs": [
    {
     "data": {
      "text/plain": [
       "59"
      ]
     },
     "execution_count": 105,
     "metadata": {},
     "output_type": "execute_result"
    }
   ],
   "source": [
    "# Predicted\n",
    "sum(y_pred == 0)"
   ]
  },
  {
   "cell_type": "markdown",
   "id": "c3f6df43",
   "metadata": {},
   "source": [
    "#### Purchased"
   ]
  },
  {
   "cell_type": "code",
   "execution_count": 106,
   "id": "af7e15f9",
   "metadata": {},
   "outputs": [
    {
     "data": {
      "text/plain": [
       "24"
      ]
     },
     "execution_count": 106,
     "metadata": {},
     "output_type": "execute_result"
    }
   ],
   "source": [
    "# Actual\n",
    "sum(y_test == 1)"
   ]
  },
  {
   "cell_type": "code",
   "execution_count": 107,
   "id": "dfb76b73",
   "metadata": {},
   "outputs": [
    {
     "data": {
      "text/plain": [
       "21"
      ]
     },
     "execution_count": 107,
     "metadata": {},
     "output_type": "execute_result"
    }
   ],
   "source": [
    "# Predicted\n",
    "sum(y_pred == 1)"
   ]
  },
  {
   "cell_type": "code",
   "execution_count": null,
   "id": "dcd86cf3",
   "metadata": {},
   "outputs": [],
   "source": []
  }
 ],
 "metadata": {
  "kernelspec": {
   "display_name": "Python 3 (ipykernel)",
   "language": "python",
   "name": "python3"
  },
  "language_info": {
   "codemirror_mode": {
    "name": "ipython",
    "version": 3
   },
   "file_extension": ".py",
   "mimetype": "text/x-python",
   "name": "python",
   "nbconvert_exporter": "python",
   "pygments_lexer": "ipython3",
   "version": "3.9.13"
  }
 },
 "nbformat": 4,
 "nbformat_minor": 5
}
